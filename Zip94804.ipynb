{
  "cells": [
    {
      "cell_type": "markdown",
      "metadata": {
        "id": "view-in-github",
        "colab_type": "text"
      },
      "source": [
        "<a href=\"https://colab.research.google.com/github/mariang168/SU_MSADS/blob/main/Zip94804.ipynb\" target=\"_parent\"><img src=\"https://colab.research.google.com/assets/colab-badge.svg\" alt=\"Open In Colab\"/></a>"
      ]
    },
    {
      "cell_type": "code",
      "execution_count": 1,
      "metadata": {
        "colab": {
          "base_uri": "https://localhost:8080/"
        },
        "id": "AwtTVyPuTmU4",
        "outputId": "85af206f-b530-4630-8fd0-d22aa32b8b1d"
      },
      "outputs": [
        {
          "output_type": "stream",
          "name": "stderr",
          "text": [
            "/usr/local/lib/python3.7/dist-packages/statsmodels/tools/_testing.py:19: FutureWarning: pandas.util.testing is deprecated. Use the functions in the public API at pandas.testing instead.\n",
            "  import pandas.util.testing as tm\n"
          ]
        }
      ],
      "source": [
        "## SAMPLE TIME SERIES USING RETAIL DATA\n",
        "## BASED ON MILLER (2015) and BROWNLEE (2016)\n",
        "\n",
        "import pandas as pd\n",
        "import matplotlib.pyplot as plt\n",
        "import numpy\n",
        "from statsmodels.tsa.stattools import adfuller\n",
        "from statsmodels.graphics.tsaplots import plot_acf\n",
        "from statsmodels.graphics.tsaplots import plot_pacf\n",
        "from sklearn.metrics import mean_squared_error\n",
        "from statsmodels.tsa.arima_model import ARIMA\n",
        "from statsmodels.tsa.arima_model import ARIMAResults\n",
        "from math import sqrt\n",
        "from pandas import DataFrame\n",
        "from scipy.stats import boxcox\n",
        "import seaborn as sns\n",
        "import numpy as np\n",
        "\n",
        "## Setting Seaborn Styles\n",
        "sns.set(style=\"whitegrid\")\n",
        "sns.set_palette((sns.color_palette('tab10', 8)))\n",
        "dims = (11.7, 8.27)\n",
        "%matplotlib inline\n",
        "\n",
        "## Setting random seed\n",
        "np.random.seed(1000)"
      ]
    },
    {
      "cell_type": "code",
      "execution_count": 2,
      "metadata": {
        "id": "qXZWn3M1th_F"
      },
      "outputs": [],
      "source": [
        "#Zip97212 = pd.read_csv(\"Zip97212.csv\").fillna(0)\n",
        "Zip94804 = pd.read_csv(\"https://raw.githubusercontent.com/mariang168/SU_MSADS/main/IST718/Zip94804.csv\").fillna(0)\n",
        "#Zip98340 = pd.read_csv(\"Zip98340.csv\").fillna(0)"
      ]
    },
    {
      "cell_type": "code",
      "execution_count": 3,
      "metadata": {
        "colab": {
          "base_uri": "https://localhost:8080/",
          "height": 455
        },
        "id": "JS-lCgunuqRl",
        "outputId": "7f8d80e9-920f-4cc5-bbb5-c79532d347a4"
      },
      "outputs": [
        {
          "output_type": "execute_result",
          "data": {
            "text/plain": [
              "                      0        Price\n",
              "Date                                \n",
              "1996-01-31  183992.0343  183992.0343\n",
              "1996-02-29  178934.9969  178934.9969\n",
              "1996-03-31   177687.123  177687.1230\n",
              "1996-04-30  175233.9138  175233.9138\n",
              "1996-05-31  176664.9931  176664.9931\n",
              "...                 ...          ...\n",
              "2022-02-28  817895.7591  817895.7591\n",
              "2022-03-31   865358.151  865358.1510\n",
              "2022-04-30   869453.853  869453.8530\n",
              "2022-05-31  851362.3185  851362.3185\n",
              "2022-06-30  815151.4639  815151.4639\n",
              "\n",
              "[318 rows x 2 columns]"
            ],
            "text/html": [
              "\n",
              "  <div id=\"df-49cc5af3-a14b-4903-a671-b79ede455786\">\n",
              "    <div class=\"colab-df-container\">\n",
              "      <div>\n",
              "<style scoped>\n",
              "    .dataframe tbody tr th:only-of-type {\n",
              "        vertical-align: middle;\n",
              "    }\n",
              "\n",
              "    .dataframe tbody tr th {\n",
              "        vertical-align: top;\n",
              "    }\n",
              "\n",
              "    .dataframe thead th {\n",
              "        text-align: right;\n",
              "    }\n",
              "</style>\n",
              "<table border=\"1\" class=\"dataframe\">\n",
              "  <thead>\n",
              "    <tr style=\"text-align: right;\">\n",
              "      <th></th>\n",
              "      <th>0</th>\n",
              "      <th>Price</th>\n",
              "    </tr>\n",
              "    <tr>\n",
              "      <th>Date</th>\n",
              "      <th></th>\n",
              "      <th></th>\n",
              "    </tr>\n",
              "  </thead>\n",
              "  <tbody>\n",
              "    <tr>\n",
              "      <th>1996-01-31</th>\n",
              "      <td>183992.0343</td>\n",
              "      <td>183992.0343</td>\n",
              "    </tr>\n",
              "    <tr>\n",
              "      <th>1996-02-29</th>\n",
              "      <td>178934.9969</td>\n",
              "      <td>178934.9969</td>\n",
              "    </tr>\n",
              "    <tr>\n",
              "      <th>1996-03-31</th>\n",
              "      <td>177687.123</td>\n",
              "      <td>177687.1230</td>\n",
              "    </tr>\n",
              "    <tr>\n",
              "      <th>1996-04-30</th>\n",
              "      <td>175233.9138</td>\n",
              "      <td>175233.9138</td>\n",
              "    </tr>\n",
              "    <tr>\n",
              "      <th>1996-05-31</th>\n",
              "      <td>176664.9931</td>\n",
              "      <td>176664.9931</td>\n",
              "    </tr>\n",
              "    <tr>\n",
              "      <th>...</th>\n",
              "      <td>...</td>\n",
              "      <td>...</td>\n",
              "    </tr>\n",
              "    <tr>\n",
              "      <th>2022-02-28</th>\n",
              "      <td>817895.7591</td>\n",
              "      <td>817895.7591</td>\n",
              "    </tr>\n",
              "    <tr>\n",
              "      <th>2022-03-31</th>\n",
              "      <td>865358.151</td>\n",
              "      <td>865358.1510</td>\n",
              "    </tr>\n",
              "    <tr>\n",
              "      <th>2022-04-30</th>\n",
              "      <td>869453.853</td>\n",
              "      <td>869453.8530</td>\n",
              "    </tr>\n",
              "    <tr>\n",
              "      <th>2022-05-31</th>\n",
              "      <td>851362.3185</td>\n",
              "      <td>851362.3185</td>\n",
              "    </tr>\n",
              "    <tr>\n",
              "      <th>2022-06-30</th>\n",
              "      <td>815151.4639</td>\n",
              "      <td>815151.4639</td>\n",
              "    </tr>\n",
              "  </tbody>\n",
              "</table>\n",
              "<p>318 rows × 2 columns</p>\n",
              "</div>\n",
              "      <button class=\"colab-df-convert\" onclick=\"convertToInteractive('df-49cc5af3-a14b-4903-a671-b79ede455786')\"\n",
              "              title=\"Convert this dataframe to an interactive table.\"\n",
              "              style=\"display:none;\">\n",
              "        \n",
              "  <svg xmlns=\"http://www.w3.org/2000/svg\" height=\"24px\"viewBox=\"0 0 24 24\"\n",
              "       width=\"24px\">\n",
              "    <path d=\"M0 0h24v24H0V0z\" fill=\"none\"/>\n",
              "    <path d=\"M18.56 5.44l.94 2.06.94-2.06 2.06-.94-2.06-.94-.94-2.06-.94 2.06-2.06.94zm-11 1L8.5 8.5l.94-2.06 2.06-.94-2.06-.94L8.5 2.5l-.94 2.06-2.06.94zm10 10l.94 2.06.94-2.06 2.06-.94-2.06-.94-.94-2.06-.94 2.06-2.06.94z\"/><path d=\"M17.41 7.96l-1.37-1.37c-.4-.4-.92-.59-1.43-.59-.52 0-1.04.2-1.43.59L10.3 9.45l-7.72 7.72c-.78.78-.78 2.05 0 2.83L4 21.41c.39.39.9.59 1.41.59.51 0 1.02-.2 1.41-.59l7.78-7.78 2.81-2.81c.8-.78.8-2.07 0-2.86zM5.41 20L4 18.59l7.72-7.72 1.47 1.35L5.41 20z\"/>\n",
              "  </svg>\n",
              "      </button>\n",
              "      \n",
              "  <style>\n",
              "    .colab-df-container {\n",
              "      display:flex;\n",
              "      flex-wrap:wrap;\n",
              "      gap: 12px;\n",
              "    }\n",
              "\n",
              "    .colab-df-convert {\n",
              "      background-color: #E8F0FE;\n",
              "      border: none;\n",
              "      border-radius: 50%;\n",
              "      cursor: pointer;\n",
              "      display: none;\n",
              "      fill: #1967D2;\n",
              "      height: 32px;\n",
              "      padding: 0 0 0 0;\n",
              "      width: 32px;\n",
              "    }\n",
              "\n",
              "    .colab-df-convert:hover {\n",
              "      background-color: #E2EBFA;\n",
              "      box-shadow: 0px 1px 2px rgba(60, 64, 67, 0.3), 0px 1px 3px 1px rgba(60, 64, 67, 0.15);\n",
              "      fill: #174EA6;\n",
              "    }\n",
              "\n",
              "    [theme=dark] .colab-df-convert {\n",
              "      background-color: #3B4455;\n",
              "      fill: #D2E3FC;\n",
              "    }\n",
              "\n",
              "    [theme=dark] .colab-df-convert:hover {\n",
              "      background-color: #434B5C;\n",
              "      box-shadow: 0px 1px 3px 1px rgba(0, 0, 0, 0.15);\n",
              "      filter: drop-shadow(0px 1px 2px rgba(0, 0, 0, 0.3));\n",
              "      fill: #FFFFFF;\n",
              "    }\n",
              "  </style>\n",
              "\n",
              "      <script>\n",
              "        const buttonEl =\n",
              "          document.querySelector('#df-49cc5af3-a14b-4903-a671-b79ede455786 button.colab-df-convert');\n",
              "        buttonEl.style.display =\n",
              "          google.colab.kernel.accessAllowed ? 'block' : 'none';\n",
              "\n",
              "        async function convertToInteractive(key) {\n",
              "          const element = document.querySelector('#df-49cc5af3-a14b-4903-a671-b79ede455786');\n",
              "          const dataTable =\n",
              "            await google.colab.kernel.invokeFunction('convertToInteractive',\n",
              "                                                     [key], {});\n",
              "          if (!dataTable) return;\n",
              "\n",
              "          const docLinkHtml = 'Like what you see? Visit the ' +\n",
              "            '<a target=\"_blank\" href=https://colab.research.google.com/notebooks/data_table.ipynb>data table notebook</a>'\n",
              "            + ' to learn more about interactive tables.';\n",
              "          element.innerHTML = '';\n",
              "          dataTable['output_type'] = 'display_data';\n",
              "          await google.colab.output.renderOutput(dataTable, element);\n",
              "          const docLink = document.createElement('div');\n",
              "          docLink.innerHTML = docLinkHtml;\n",
              "          element.appendChild(docLink);\n",
              "        }\n",
              "      </script>\n",
              "    </div>\n",
              "  </div>\n",
              "  "
            ]
          },
          "metadata": {},
          "execution_count": 3
        }
      ],
      "source": [
        "#Zip94804\n",
        "C_t = Zip94804.transpose()\n",
        "C_t = pd.DataFrame(C_t)\n",
        "C = C_t.drop(['RegionID', 'SizeRank', 'RegionName', 'RegionType', 'StateName', 'State', 'City', 'Metro', 'CountyName'])\n",
        "#O = O.sort_index()\n",
        "C.index.name = \"Date\"\n",
        "C.index = pd.to_datetime(C.index)\n",
        "C['Price']= C.mean(axis=1)\n",
        "C"
      ]
    },
    {
      "cell_type": "code",
      "execution_count": 4,
      "metadata": {
        "colab": {
          "base_uri": "https://localhost:8080/"
        },
        "id": "qLQ2O14CYTEO",
        "outputId": "af74fdcc-53d1-4e1e-c5a2-d5d1ee0220f8"
      },
      "outputs": [
        {
          "output_type": "stream",
          "name": "stdout",
          "text": [
            "ADF Statistic: -0.153974\n",
            "p-value: 0.943790\n",
            "Critical Values:\n",
            "\t1%: -3.452\n",
            "\t5%: -2.871\n",
            "\t10%: -2.572\n"
          ]
        }
      ],
      "source": [
        "# EXPLORE - IS OUR TIME SERIES STATIONARY OR NOT?\n",
        "\n",
        "result = adfuller(C['Price'], autolag='AIC')\n",
        "\n",
        "print('ADF Statistic: %f' % result[0])\n",
        "print('p-value: %f' % result[1])\n",
        "print('Critical Values:')\n",
        "for key, value in result[4].items():\n",
        "\tprint('\\t%s: %.3f' % (key, value))"
      ]
    },
    {
      "cell_type": "code",
      "execution_count": 5,
      "metadata": {
        "colab": {
          "base_uri": "https://localhost:8080/",
          "height": 407
        },
        "id": "f7NsYja4Yb1x",
        "outputId": "d2925dda-f61d-4d41-e426-34f90fd5efc4"
      },
      "outputs": [
        {
          "output_type": "stream",
          "name": "stdout",
          "text": [
            "ADF Statistic: -1.756806\n",
            "p-value: 0.402107\n",
            "Critical Values:\n",
            "\t1%: -3.453\n",
            "\t5%: -2.871\n",
            "\t10%: -2.572\n"
          ]
        },
        {
          "output_type": "execute_result",
          "data": {
            "text/plain": [
              "<matplotlib.axes._subplots.AxesSubplot at 0x7fb28aad4410>"
            ]
          },
          "metadata": {},
          "execution_count": 5
        },
        {
          "output_type": "display_data",
          "data": {
            "text/plain": [
              "<Figure size 432x288 with 1 Axes>"
            ],
            "image/png": "[encoded data removed]"
          },
          "metadata": {
            "needs_background": "light"
          }
        }
      ],
      "source": [
        "# SCRUB - OUR TIME SERIES IS NOT STATIONARY - WE NEED TO TAKE THE DIFFERENCE\n",
        " \n",
        "# create a differenced series\n",
        "def difference(dataset, interval=1):\n",
        "\tdiff = list()\n",
        "\tfor i in range(interval, len(dataset)):\n",
        "\t\tvalue = dataset[i] - dataset[i - interval]\n",
        "\t\tdiff.append(value)\n",
        "\treturn pd.Series(diff)\n",
        "\n",
        "#X = O['Price']\n",
        "X = C['Price']\n",
        "X = X.astype('float32')\n",
        "# difference data\n",
        "months_in_year = 12\n",
        "stationary = difference(X, months_in_year)\n",
        "stationary.index = C.index[months_in_year:]\n",
        "# check if stationary\n",
        "result = adfuller(stationary)\n",
        "print('ADF Statistic: %f' % result[0])\n",
        "print('p-value: %f' % result[1])\n",
        "print('Critical Values:')\n",
        "for key, value in result[4].items():\n",
        "\tprint('\\t%s: %.3f' % (key, value))\n",
        "\n",
        "# plot\n",
        "stationary.plot()"
      ]
    },
    {
      "cell_type": "code",
      "execution_count": 6,
      "metadata": {
        "id": "DvEjSDCCYcmJ"
      },
      "outputs": [],
      "source": [
        "# SCRUB - SOME CODE TO INVERT DIFFERENCE VALUE\n",
        "\n",
        "def inverse_difference(history, yhat, interval=1):\n",
        "\treturn yhat + history[-interval]"
      ]
    },
    {
      "cell_type": "code",
      "execution_count": 7,
      "metadata": {
        "colab": {
          "base_uri": "https://localhost:8080/",
          "height": 818
        },
        "id": "duPpKjKzYcrR",
        "outputId": "f36e085c-4500-41f7-e514-ab4763fdd618"
      },
      "outputs": [
        {
          "output_type": "execute_result",
          "data": {
            "text/plain": [
              "<Figure size 432x288 with 1 Axes>"
            ],
            "image/png": "[encoded data removed]"
          },
          "metadata": {},
          "execution_count": 7
        },
        {
          "output_type": "display_data",
          "data": {
            "text/plain": [
              "<Figure size 432x288 with 1 Axes>"
            ],
            "image/png": "[encoded data removed]"
          },
          "metadata": {
            "needs_background": "light"
          }
        },
        {
          "output_type": "display_data",
          "data": {
            "text/plain": [
              "<Figure size 432x288 with 1 Axes>"
            ],
            "image/png": "[encoded data removed]"
          },
          "metadata": {
            "needs_background": "light"
          }
        }
      ],
      "source": [
        "# USING STATIONARY TIME SERIES LOOK AT ACF\n",
        "\n",
        "series = stationary\n",
        "\n",
        "plot_acf(series)\n",
        "plot_pacf(series)"
      ]
    },
    {
      "cell_type": "code",
      "execution_count": 8,
      "metadata": {
        "colab": {
          "base_uri": "https://localhost:8080/",
          "height": 551
        },
        "id": "xoCzPjaeYcvn",
        "outputId": "7c81bb21-71c1-4642-fb21-affad664ab7b"
      },
      "outputs": [
        {
          "output_type": "execute_result",
          "data": {
            "text/plain": [
              "<Figure size 432x288 with 1 Axes>"
            ],
            "image/png": "[encoded data removed]"
          },
          "metadata": {},
          "execution_count": 8
        },
        {
          "output_type": "display_data",
          "data": {
            "text/plain": [
              "<Figure size 432x288 with 1 Axes>"
            ],
            "image/png": "[encoded data removed]"
          },
          "metadata": {
            "needs_background": "light"
          }
        }
      ],
      "source": [
        "# USING STATIONARY TIME SERIES LOOK FOR PACF\n",
        "\n",
        "plot_pacf(series)"
      ]
    },
    {
      "cell_type": "code",
      "execution_count": 9,
      "metadata": {
        "colab": {
          "base_uri": "https://localhost:8080/"
        },
        "id": "_b6W35ZfYc3Y",
        "outputId": "2fa318c4-0cd0-4d33-8114-cf60fa66037e"
      },
      "outputs": [
        {
          "output_type": "stream",
          "name": "stdout",
          "text": [
            ">Predicted=220870.648, Expected=227845\n",
            ">Predicted=215459.643, Expected=227163\n",
            ">Predicted=228298.377, Expected=228676\n",
            ">Predicted=210653.999, Expected=231567\n",
            ">Predicted=224876.657, Expected=235878\n",
            ">Predicted=214998.428, Expected=241068\n",
            ">Predicted=226955.270, Expected=239658\n",
            ">Predicted=239727.124, Expected=240535\n",
            ">Predicted=231304.068, Expected=252613\n",
            ">Predicted=232743.200, Expected=246614\n",
            ">Predicted=250118.903, Expected=244140\n",
            ">Predicted=234450.464, Expected=243796\n",
            ">Predicted=238126.378, Expected=256304\n",
            ">Predicted=259889.430, Expected=250725\n",
            ">Predicted=257011.867, Expected=248378\n",
            ">Predicted=249947.225, Expected=253070\n",
            ">Predicted=256465.191, Expected=248154\n",
            ">Predicted=253580.332, Expected=239088\n",
            ">Predicted=234906.568, Expected=237389\n",
            ">Predicted=234731.186, Expected=223410\n",
            ">Predicted=234960.750, Expected=229659\n",
            ">Predicted=219604.267, Expected=220519\n",
            ">Predicted=216429.658, Expected=217064\n",
            ">Predicted=215875.675, Expected=218901\n",
            ">Predicted=231234.080, Expected=220800\n",
            ">Predicted=215424.893, Expected=216103\n",
            ">Predicted=211048.662, Expected=207632\n",
            ">Predicted=212351.334, Expected=196980\n",
            ">Predicted=189869.116, Expected=196864\n",
            ">Predicted=184015.669, Expected=194079\n",
            ">Predicted=193787.830, Expected=193709\n",
            ">Predicted=181322.247, Expected=202216\n",
            ">Predicted=209648.977, Expected=196870\n",
            ">Predicted=193236.409, Expected=194936\n",
            ">Predicted=188624.280, Expected=199404\n",
            ">Predicted=203212.472, Expected=207060\n",
            ">Predicted=211086.374, Expected=208444\n",
            ">Predicted=205184.781, Expected=215038\n",
            ">Predicted=206697.672, Expected=210545\n",
            ">Predicted=202848.958, Expected=218639\n",
            ">Predicted=220127.075, Expected=220734\n",
            ">Predicted=222967.132, Expected=207229\n",
            ">Predicted=207092.694, Expected=216210\n",
            ">Predicted=222279.157, Expected=216239\n",
            ">Predicted=213081.541, Expected=222763\n",
            ">Predicted=218813.082, Expected=222293\n",
            ">Predicted=229815.067, Expected=226614\n",
            ">Predicted=234637.877, Expected=242843\n",
            ">Predicted=244326.815, Expected=250854\n",
            ">Predicted=259749.872, Expected=266023\n",
            ">Predicted=263419.381, Expected=277891\n",
            ">Predicted=288712.773, Expected=276958\n",
            ">Predicted=283089.356, Expected=295863\n",
            ">Predicted=280108.495, Expected=292547\n",
            ">Predicted=306174.810, Expected=302230\n",
            ">Predicted=304907.946, Expected=323911\n",
            ">Predicted=331086.540, Expected=326227\n",
            ">Predicted=331532.906, Expected=338647\n",
            ">Predicted=341969.240, Expected=356567\n",
            ">Predicted=376664.752, Expected=356589\n",
            ">Predicted=367992.891, Expected=350507\n",
            ">Predicted=361314.210, Expected=354056\n",
            ">Predicted=361997.341, Expected=354965\n",
            ">Predicted=350647.287, Expected=353542\n",
            ">Predicted=369614.226, Expected=351091\n",
            ">Predicted=346940.043, Expected=354763\n",
            ">Predicted=358893.880, Expected=357631\n",
            ">Predicted=381032.137, Expected=357391\n",
            ">Predicted=357221.249, Expected=360301\n",
            ">Predicted=367049.272, Expected=354200\n",
            ">Predicted=371762.047, Expected=360659\n",
            ">Predicted=355187.202, Expected=367735\n",
            ">Predicted=358876.350, Expected=373416\n",
            ">Predicted=379189.395, Expected=379877\n",
            ">Predicted=383878.269, Expected=381473\n",
            ">Predicted=380809.922, Expected=384024\n",
            ">Predicted=381896.306, Expected=390948\n",
            ">Predicted=395990.867, Expected=405714\n",
            ">Predicted=411450.380, Expected=408500\n",
            ">Predicted=411066.479, Expected=418459\n",
            ">Predicted=421772.748, Expected=424800\n",
            ">Predicted=421470.408, Expected=453008\n",
            ">Predicted=462030.225, Expected=446740\n",
            ">Predicted=462818.815, Expected=449656\n",
            ">Predicted=452016.356, Expected=456307\n",
            ">Predicted=461767.484, Expected=457345\n",
            ">Predicted=459011.976, Expected=466495\n",
            ">Predicted=467916.872, Expected=448419\n",
            ">Predicted=456797.495, Expected=456670\n",
            ">Predicted=466222.810, Expected=462503\n",
            ">Predicted=465430.991, Expected=470300\n",
            ">Predicted=478057.829, Expected=474241\n",
            ">Predicted=481764.758, Expected=482065\n",
            ">Predicted=508739.757, Expected=508504\n",
            ">Predicted=502586.043, Expected=515724\n",
            ">Predicted=518427.503, Expected=524699\n",
            ">Predicted=534989.186, Expected=535645\n",
            ">Predicted=538356.042, Expected=545237\n",
            ">Predicted=555714.491, Expected=542186\n",
            ">Predicted=526103.758, Expected=539795\n",
            ">Predicted=544990.474, Expected=532432\n",
            ">Predicted=542482.520, Expected=537468\n",
            ">Predicted=541071.536, Expected=542849\n",
            ">Predicted=546561.582, Expected=541539\n",
            ">Predicted=548683.089, Expected=553599\n",
            ">Predicted=578659.485, Expected=561018\n",
            ">Predicted=569340.874, Expected=584716\n",
            ">Predicted=588328.598, Expected=592596\n",
            ">Predicted=608001.119, Expected=598385\n",
            ">Predicted=607721.549, Expected=599860\n",
            ">Predicted=595485.992, Expected=605935\n",
            ">Predicted=601342.771, Expected=582456\n",
            ">Predicted=577860.140, Expected=602347\n",
            ">Predicted=600578.469, Expected=617423\n",
            ">Predicted=629792.667, Expected=634103\n",
            ">Predicted=635294.315, Expected=622699\n",
            ">Predicted=637952.507, Expected=631473\n",
            ">Predicted=636332.124, Expected=630516\n",
            ">Predicted=653510.412, Expected=632810\n",
            ">Predicted=638733.494, Expected=635986\n",
            ">Predicted=636128.968, Expected=634210\n",
            ">Predicted=634500.726, Expected=637796\n",
            ">Predicted=641828.288, Expected=642810\n",
            ">Predicted=619905.021, Expected=619076\n",
            ">Predicted=638686.891, Expected=612028\n",
            ">Predicted=627313.057, Expected=604004\n",
            ">Predicted=613173.195, Expected=626071\n",
            ">Predicted=608771.569, Expected=622351\n",
            ">Predicted=632477.929, Expected=628379\n",
            ">Predicted=629285.777, Expected=623525\n",
            ">Predicted=625137.536, Expected=632804\n",
            ">Predicted=635059.701, Expected=642858\n",
            ">Predicted=642795.619, Expected=652484\n",
            ">Predicted=657822.858, Expected=638681\n",
            ">Predicted=646415.093, Expected=646325\n",
            ">Predicted=618450.519, Expected=676141\n",
            ">Predicted=669898.605, Expected=703708\n",
            ">Predicted=708856.131, Expected=715445\n",
            ">Predicted=746359.323, Expected=722510\n",
            ">Predicted=721745.389, Expected=713792\n",
            ">Predicted=716708.404, Expected=744469\n",
            ">Predicted=740146.398, Expected=733982\n",
            ">Predicted=747311.704, Expected=770540\n",
            ">Predicted=780802.762, Expected=782158\n",
            ">Predicted=797129.315, Expected=795309\n",
            ">Predicted=781976.997, Expected=797543\n",
            ">Predicted=806669.638, Expected=835856\n",
            ">Predicted=870733.310, Expected=844680\n",
            ">Predicted=877014.993, Expected=818241\n",
            ">Predicted=822955.029, Expected=778620\n",
            ">Predicted=770386.507, Expected=781254\n",
            ">Predicted=764829.407, Expected=787726\n",
            ">Predicted=819855.785, Expected=786996\n",
            ">Predicted=774646.190, Expected=812339\n",
            ">Predicted=847775.736, Expected=817896\n",
            ">Predicted=833335.880, Expected=865358\n",
            ">Predicted=874031.725, Expected=869454\n",
            ">Predicted=878167.989, Expected=851362\n",
            ">Predicted=887381.821, Expected=815151\n",
            "RMSE: 16273.618\n"
          ]
        }
      ],
      "source": [
        "# BUILD THE MODEL - USING ORIGINAL SERIES1 DATA\n",
        "\n",
        "# prepare data\n",
        "#X = O['Price']\n",
        "X = C['Price']\n",
        "X = X.astype('float32')\n",
        "train_size = int(len(X) * 0.50)\n",
        "train, test = X[0:train_size], X[train_size:]\n",
        "# walk-forward validation\n",
        "history = [x for x in train]\n",
        "predictions = list()\n",
        "for i in range(len(test)):\n",
        "\t# difference data\n",
        "\tmonths_in_year = 12\n",
        "\tdiff = difference(history, months_in_year)\n",
        "\t# predict\n",
        "\tmodel = ARIMA(diff, order=(2,1,0))\n",
        "\tmodel_fit = model.fit(trend='nc', disp=0)\n",
        "\tyhat = model_fit.forecast()[0]\n",
        "\tyhat = inverse_difference(history, yhat, months_in_year)\n",
        "\tpredictions.append(yhat)\n",
        "\t# observation\n",
        "\tobs = test[i]\n",
        "\thistory.append(obs)\n",
        "\tprint('>Predicted=%.3f, Expected=%3.f' % (yhat, obs))\n",
        "# report performance\n",
        "mse = mean_squared_error(test, predictions)\n",
        "rmse = sqrt(mse)\n",
        "print('RMSE: %.3f' % rmse)"
      ]
    },
    {
      "cell_type": "code",
      "execution_count": 10,
      "metadata": {
        "id": "w7kg8thpY7YF",
        "colab": {
          "base_uri": "https://localhost:8080/",
          "height": 720
        },
        "outputId": "2d12e0e9-790c-4ad0-c742-4da072c4bfb5"
      },
      "outputs": [
        {
          "output_type": "stream",
          "name": "stdout",
          "text": [
            "                  0\n",
            "count    159.000000\n",
            "mean     492.839511\n",
            "std    16317.547394\n",
            "min   -72230.383092\n",
            "25%    -7145.385013\n",
            "50%      915.216915\n",
            "75%     9705.819161\n",
            "max    57690.231142\n",
            "RMSE: 16273.618\n"
          ]
        },
        {
          "output_type": "display_data",
          "data": {
            "text/plain": [
              "<Figure size 432x288 with 1 Axes>"
            ],
            "image/png": "[encoded data removed]"
          },
          "metadata": {
            "needs_background": "light"
          }
        },
        {
          "output_type": "display_data",
          "data": {
            "text/plain": [
              "<Figure size 432x288 with 1 Axes>"
            ],
            "image/png": "[encoded data removed]"
          },
          "metadata": {
            "needs_background": "light"
          }
        }
      ],
      "source": [
        "#Zip97212 ARIMA()\n",
        "#@title\n",
        "# SIMILAR BLOCK OF CODE - THIS ONE SAVES RESIDUALS FOR PLOTTING\n",
        "\n",
        "# create a differenced series\n",
        "def difference(dataset, interval=1):\n",
        "\tdiff = list()\n",
        "\tfor i in range(interval, len(dataset)):\n",
        "\t\tvalue = dataset[i] - dataset[i - interval]\n",
        "\t\tdiff.append(value)\n",
        "\treturn diff\n",
        " \n",
        "# invert differenced value\n",
        "def inverse_difference(history, yhat, interval=1):\n",
        "\treturn yhat + history[-interval]\n",
        " \n",
        "# load data\n",
        "series = C['Price']\n",
        "# prepare data\n",
        "X = series.values\n",
        "X = X.astype('float32')\n",
        "train_size = int(len(X) * 0.50)\n",
        "train, test = X[0:train_size], X[train_size:]\n",
        "# walk-forward validation\n",
        "history = [x for x in train]\n",
        "predictions = list()\n",
        "for i in range(len(test)):\n",
        "\t# difference data\n",
        "\tmonths_in_year = 12\n",
        "\tdiff = difference(history, months_in_year)\n",
        "\t# predict\n",
        "\tmodel = ARIMA(diff, order=(2,1,0))\n",
        "\tmodel_fit = model.fit(trend='nc', disp=0)\n",
        "\tyhat = model_fit.forecast()[0]\n",
        "\tyhat = inverse_difference(history, yhat, months_in_year)\n",
        "\tpredictions.append(yhat)\n",
        "\t# observation\n",
        "\tobs = test[i]\n",
        "\thistory.append(obs)\n",
        "# errors\n",
        "residuals = [test[i]-predictions[i] for i in range(len(test))]\n",
        "residuals = DataFrame(residuals)\n",
        "print(residuals.describe())\n",
        "# report performance\n",
        "mse = mean_squared_error(test, predictions)\n",
        "rmse = sqrt(mse)\n",
        "print('RMSE: %.3f' % rmse)\n",
        "# plot\n",
        "residuals.hist(ax=plt.gca())\n",
        "plt.show()\n",
        "\n",
        "residuals.plot(kind='kde', ax=plt.gca())\n",
        "plt.show()"
      ]
    },
    {
      "cell_type": "code",
      "execution_count": 11,
      "metadata": {
        "colab": {
          "base_uri": "https://localhost:8080/",
          "height": 720
        },
        "id": "sSzbSg5KY7b8",
        "outputId": "1e98162c-7b40-48b8-ef5c-ea28d9620c80"
      },
      "outputs": [
        {
          "output_type": "stream",
          "name": "stdout",
          "text": [
            "                  0\n",
            "count    159.000000\n",
            "mean     613.552598\n",
            "std    16317.547394\n",
            "min   -72109.670005\n",
            "25%    -7024.671926\n",
            "50%     1035.930002\n",
            "75%     9826.532248\n",
            "max    57810.944229\n",
            "RMSE: 16277.721\n"
          ]
        },
        {
          "output_type": "display_data",
          "data": {
            "text/plain": [
              "<Figure size 432x288 with 1 Axes>"
            ],
            "image/png": "[encoded data removed]"
          },
          "metadata": {
            "needs_background": "light"
          }
        },
        {
          "output_type": "display_data",
          "data": {
            "text/plain": [
              "<Figure size 432x288 with 1 Axes>"
            ],
            "image/png": "[encoded data removed]"
          },
          "metadata": {
            "needs_background": "light"
          }
        }
      ],
      "source": [
        "# MODEL - INTERPRET \n",
        "# RECREATE ANALYSIS WITH MEAN RESIDUAL ADDED TO EACH PREDICTION\n",
        "# create a differenced series\n",
        "def difference(dataset, interval=1):\n",
        "\tdiff = list()\n",
        "\tfor i in range(interval, len(dataset)):\n",
        "\t\tvalue = dataset[i] - dataset[i - interval]\n",
        "\t\tdiff.append(value)\n",
        "\treturn diff\n",
        " \n",
        "# invert differenced value\n",
        "def inverse_difference(history, yhat, interval=1):\n",
        "\treturn yhat + history[-interval]\n",
        " \n",
        "# load data\n",
        "series = C['Price']\n",
        "# prepare data\n",
        "X = series.values\n",
        "X = X.astype('float32')\n",
        "train_size = int(len(X) * 0.50)\n",
        "train, test = X[0:train_size], X[train_size:]\n",
        "# walk-forward validation\n",
        "history = [x for x in train]\n",
        "predictions = list()\n",
        "bias = -120.713087\n",
        "for i in range(len(test)):\n",
        "\t# difference data\n",
        "\tmonths_in_year = 12\n",
        "\tdiff = difference(history, months_in_year)\n",
        "\t# predict\n",
        "\tmodel = ARIMA(diff, order=(2,1,0))\n",
        "\tmodel_fit = model.fit(trend='nc', disp=0)\n",
        "\tyhat = model_fit.forecast()[0]\n",
        "\tyhat = bias + inverse_difference(history, yhat, months_in_year)\n",
        "\tpredictions.append(yhat)\n",
        "\t# observation\n",
        "\tobs = test[i]\n",
        "\thistory.append(obs)\n",
        "# errors\n",
        "residuals = [test[i]-predictions[i] for i in range(len(test))]\n",
        "residuals = DataFrame(residuals)\n",
        "print(residuals.describe())\n",
        "# report performance\n",
        "mse = mean_squared_error(test, predictions)\n",
        "rmse = sqrt(mse)\n",
        "print('RMSE: %.3f' % rmse)\n",
        "# plot\n",
        "residuals.hist(ax=plt.gca())\n",
        "plt.show()\n",
        "\n",
        "residuals.plot(kind='kde', ax=plt.gca())\n",
        "plt.show()"
      ]
    },
    {
      "cell_type": "code",
      "execution_count": 12,
      "metadata": {
        "colab": {
          "base_uri": "https://localhost:8080/",
          "height": 551
        },
        "id": "6I1dt_enY7fi",
        "outputId": "6e17f695-914e-47f5-dbac-86433daa5bad"
      },
      "outputs": [
        {
          "output_type": "display_data",
          "data": {
            "text/plain": [
              "<Figure size 432x288 with 1 Axes>"
            ],
            "image/png": "[encoded data removed]"
          },
          "metadata": {
            "needs_background": "light"
          }
        },
        {
          "output_type": "display_data",
          "data": {
            "text/plain": [
              "<Figure size 432x288 with 1 Axes>"
            ],
            "image/png": "[encoded data removed]"
          },
          "metadata": {
            "needs_background": "light"
          }
        }
      ],
      "source": [
        "# INTERPRET -LOOK AT ACF AND PACF FOR RESIDUALS\n",
        "# Ideally all residuals are not significant and mean==0\n",
        "plot_acf(residuals, ax=plt.gca())\n",
        "plt.show()\n",
        "\n",
        "plot_pacf(residuals, ax=plt.gca())\n",
        "plt.show()"
      ]
    },
    {
      "cell_type": "code",
      "execution_count": 13,
      "metadata": {
        "id": "yKVyQNXBY7iu"
      },
      "outputs": [],
      "source": [
        "# MODEL - CODE FROM BROWNLEE FOR SAVING MODEL\n",
        "# NOTE:  This will save in your google drive UNLESS you specified a particular\n",
        "# working directory\n",
        "\n",
        "# monkey patch around bug in ARIMA class\n",
        "def __getnewargs__(self):\n",
        "\treturn ((self.endog),(self.k_lags, self.k_diff, self.k_ma))\n",
        "\n",
        "ARIMA.__getnewargs__ = __getnewargs__\n",
        "\n",
        "# create a differenced series\n",
        "def difference(dataset, interval=1):\n",
        "\tdiff = list()\n",
        "\tfor i in range(interval, len(dataset)):\n",
        "\t\tvalue = dataset[i] - dataset[i - interval]\n",
        "\t\tdiff.append(value)\n",
        "\treturn diff\n",
        "\n",
        "# prepare data\n",
        "X = C['Price']\n",
        "X = X.astype('float32')\n",
        "# difference data\n",
        "months_in_year = 12\n",
        "diff = difference(X, months_in_year)\n",
        "# fit model\n",
        "model = ARIMA(diff, order=(2,1,0))\n",
        "model_fit = model.fit(trend='nc', disp=0)\n",
        "# bias constant, could be calculated from in-sample mean residual - CHANGED TO ZERO\n",
        "bias = 0\n",
        "# save model\n",
        "model_fit.save('model.pkl')\n",
        "numpy.save('model_bias.npy', [bias])"
      ]
    },
    {
      "cell_type": "code",
      "execution_count": 14,
      "metadata": {
        "colab": {
          "base_uri": "https://localhost:8080/"
        },
        "id": "gaZ_CUykY7mR",
        "outputId": "c65af14a-931c-4057-8a39-b84154c5050e"
      },
      "outputs": [
        {
          "output_type": "stream",
          "name": "stdout",
          "text": [
            "Predicted: 815214.150\n"
          ]
        }
      ],
      "source": [
        "# MODEL\n",
        "# CODE FOR MAKING PREDICTION USING SAVED MODEL - LOOKING ONE STEP AHEAD\n",
        "\n",
        "def inverse_difference(history, yhat, interval=1):\n",
        "\treturn yhat + history[-interval]\n",
        "\n",
        "series = C['Price']\n",
        "months_in_year = 12\n",
        "model_fit = ARIMAResults.load('model.pkl')\n",
        "bias = numpy.load('model_bias.npy')\n",
        "yhat = float(model_fit.forecast()[0])\n",
        "yhat = bias + inverse_difference(series.values, yhat, months_in_year)\n",
        "print('Predicted: %.3f' % yhat)"
      ]
    },
    {
      "cell_type": "code",
      "execution_count": 15,
      "metadata": {
        "colab": {
          "base_uri": "https://localhost:8080/"
        },
        "id": "6AG4I8L5Y7qf",
        "outputId": "b9a0ea8f-c7ed-43bb-c87b-35218d763ab0"
      },
      "outputs": [
        {
          "output_type": "stream",
          "name": "stdout",
          "text": [
            "Dataset 294, Validation 24\n"
          ]
        }
      ],
      "source": [
        "# INTERPRET - CREATE TRAIN-TEST DATA\n",
        "# DATA IS WEEKLY FOR 2+ years\n",
        "# KEEP ONE QUARTER - 13 weeks - AS THE TEST DATA\n",
        "\n",
        "series1 = pd.read_csv('C.csv', header=0,\n",
        "                      index_col=\"Date\", parse_dates=[\"Date\"])\n",
        "split_point = len(series) - 24\n",
        "dataset, validation = series[0:split_point], series[split_point:]\n",
        "print('Dataset %d, Validation %d' % (len(dataset), len(validation)))\n",
        "\n",
        "# STORES TO LOCAL DRIVE\n",
        "dataset.to_csv('dataset.csv')\n",
        "validation.to_csv('validation.csv')"
      ]
    },
    {
      "cell_type": "code",
      "execution_count": 16,
      "metadata": {
        "colab": {
          "base_uri": "https://localhost:8080/",
          "height": 967
        },
        "id": "tF0VtOjzY7u6",
        "outputId": "c8dda203-2773-48cf-822d-a85114716e09"
      },
      "outputs": [
        {
          "output_type": "stream",
          "name": "stdout",
          "text": [
            ">Predicted=815214.140, Expected=676141\n",
            ">Predicted=608818.511, Expected=703708\n",
            ">Predicted=668894.620, Expected=715445\n",
            ">Predicted=724310.210, Expected=722510\n",
            ">Predicted=729513.770, Expected=713792\n",
            ">Predicted=711250.054, Expected=744469\n",
            ">Predicted=773363.477, Expected=733982\n",
            ">Predicted=736030.576, Expected=770540\n",
            ">Predicted=820575.243, Expected=782158\n",
            ">Predicted=783788.643, Expected=795309\n",
            ">Predicted=777796.044, Expected=797543\n",
            ">Predicted=762674.285, Expected=835856\n",
            ">Predicted=703059.205, Expected=844680\n",
            ">Predicted=901658.005, Expected=818241\n",
            ">Predicted=825120.850, Expected=778620\n",
            ">Predicted=779955.493, Expected=781254\n",
            ">Predicted=772045.004, Expected=787726\n",
            ">Predicted=820079.243, Expected=786996\n",
            ">Predicted=773173.020, Expected=812339\n",
            ">Predicted=852334.910, Expected=817896\n",
            ">Predicted=826855.161, Expected=865358\n",
            ">Predicted=881232.270, Expected=869454\n",
            ">Predicted=871031.190, Expected=851362\n",
            ">Predicted=888171.126, Expected=815151\n",
            "RMSE: 58644.974\n"
          ]
        },
        {
          "output_type": "display_data",
          "data": {
            "text/plain": [
              "<Figure size 842.4x595.44 with 1 Axes>"
            ],
            "image/png": "[encoded data removed]"
          },
          "metadata": {
            "needs_background": "light"
          }
        }
      ],
      "source": [
        "# MODEL & INTERPRET - \n",
        "# CODE FOR MAKING PREDICTION USING SAVED MODEL - LOOKING MANY STEPS AHEAD\n",
        "# NEED VALIDATION FILE FROM ABOVE\n",
        "\n",
        "\n",
        "def difference(dataset, interval=1):\n",
        "\tdiff = list()\n",
        "\tfor i in range(interval, len(dataset)):\n",
        "\t\tvalue = dataset[i] - dataset[i - interval]\n",
        "\t\tdiff.append(value)\n",
        "\treturn diff\n",
        " \n",
        "# invert differenced value\n",
        "def inverse_difference(history, yhat, interval=1):\n",
        "\treturn yhat + history[-interval]\n",
        " \n",
        "# load and prepare datasets\n",
        "dataset = C['Price']\n",
        "X = dataset.values.astype('float32')\n",
        "history = [x for x in X]\n",
        "months_in_year = 12\n",
        "#validation = Series.from_csv('validation.csv', header=0)\n",
        "y = validation.values.astype('float32')\n",
        "# load model\n",
        "model_fit = ARIMAResults.load('model.pkl')\n",
        "bias = numpy.load('model_bias.npy')\n",
        "# make first prediction\n",
        "predictions = list()\n",
        "yhat = float(model_fit.forecast()[0])\n",
        "yhat = bias + inverse_difference(history, yhat, months_in_year)\n",
        "predictions.append(yhat)\n",
        "history.append(y[0])\n",
        "print('>Predicted=%.3f, Expected=%3.f' % (yhat, y[0]))\n",
        "# rolling forecasts\n",
        "for i in range(1, len(y)):\n",
        "\t# difference data\n",
        "\tMonths_in_year = 12\n",
        "\tdiff = difference(history, months_in_year)\n",
        "\t# predict\n",
        "\tmodel = ARIMA(diff, order=(1,1,0))\n",
        "\tmodel_fit = model.fit(trend='nc', disp=0)\n",
        "\tyhat = model_fit.forecast()[0]\n",
        "\tyhat = bias + inverse_difference(history, yhat, months_in_year)\n",
        "\tpredictions.append(yhat)\n",
        "\t# observation\n",
        "\tobs = y[i]\n",
        "\thistory.append(obs)\n",
        "\tprint('>Predicted=%.3f, Expected=%3.f' % (yhat, obs))\n",
        "# report performance\n",
        "mse = mean_squared_error(y, predictions)\n",
        "rmse = sqrt(mse)\n",
        "print('RMSE: %.3f' % rmse)\n",
        "fig, ax = plt.subplots(figsize = dims)\n",
        "plt.plot(y)\n",
        "plt.plot(predictions, color='red')\n",
        "plt.xlabel(\"Month\")\n",
        "plt.ylabel(\"Zip Code 94804 Predicted Home Price\")\n",
        "plt.title(\"2022 Projected Median Home Price 94804\")\n",
        "plt.show()"
      ]
    },
    {
      "cell_type": "code",
      "source": [
        "# timeseries data\n",
        "ts_start = Zip94804.columns.get_loc('1996-01-31') + 1\n",
        "ts_end = Zip94804.columns.get_loc('2022-06-30')\n",
        "date_columns = Zip94804.iloc[:, ts_start:ts_end].columns.tolist()\n",
        "\n",
        "# ensure integer timeseries\n",
        "Zip94804[date_columns] = Zip94804[date_columns].astype(int)"
      ],
      "metadata": {
        "id": "WuL2e1ZfRQM2"
      },
      "execution_count": 17,
      "outputs": []
    },
    {
      "cell_type": "code",
      "source": [
        "# train: collapse column by median\n",
        "train_start = Zip94804.columns.get_loc('1996-01-31')\n",
        "train_stop = Zip94804.columns.get_loc('2021-12-31')\n",
        "test_stop = Zip94804.columns.get_loc('2022-06-30')\n",
        "train_columns = Zip94804.iloc[:, train_start:train_stop].columns.tolist()\n",
        "test_columns = Zip94804.iloc[:, (train_stop + 1):test_stop].columns.tolist()\n"
      ],
      "metadata": {
        "id": "SJDCB7CyNXcV"
      },
      "execution_count": 18,
      "outputs": []
    },
    {
      "cell_type": "code",
      "source": [
        "# remove rows with 0's beginning (1997-01) with trainset\n",
        "date_columns = Zip94804.iloc[:, train_start:test_stop].columns.tolist()\n",
        "\n",
        "Zip94804[date_columns] = Zip94804[date_columns].replace(0, np.nan)\n",
        "Zip94804[date_columns] = Zip94804[date_columns].dropna()"
      ],
      "metadata": {
        "id": "-ExWM8z7YTlP"
      },
      "execution_count": 19,
      "outputs": []
    },
    {
      "cell_type": "code",
      "source": [
        "# Creating training and testing datasets\n",
        "df_train = Zip94804[train_columns].median().T\n",
        "df_test = Zip94804[test_columns].median().T"
      ],
      "metadata": {
        "id": "j6E4g5l0YiHu"
      },
      "execution_count": 20,
      "outputs": []
    },
    {
      "cell_type": "code",
      "source": [
        "history = [x for x in df_train]\n",
        "predictions = list()\n",
        "iterations = (12-len(df_test)) + 10\n",
        "\n",
        "for t in range(iterations):\n",
        "    model = ARIMA(history, order=(1,1,0))\n",
        "    model_fit = model.fit(disp=0)\n",
        "    output = model_fit.forecast()\n",
        "    yhat = output[0]\n",
        "    predictions.append(yhat)\n",
        "\n",
        "    if t > 12:\n",
        "        year = 2022\n",
        "        month = (t+ 2) % 12\n",
        "        if month == 0:\n",
        "            month = 12\n",
        "    else:\n",
        "        year = 2022\n",
        "        month = t+ 2\n",
        "        if month == 0:\n",
        "            month = 12\n",
        "\n",
        "    print('\\n===============================================')\n",
        "    print('date: {}-{:01d}'.format(year, month))\n",
        "    print('-----------------------------------------------')\n",
        "\n",
        "    #\n",
        "    # observation: if current value doesn't exist from test, append current\n",
        "    #     predition, to ensure successive rolling prediction computed.\n",
        "    #\n",
        "    try:\n",
        "        obs = df_test[t]\n",
        "        print('predicted={:03f}, expected={:03f}'.format(float(yhat), obs))\n",
        "        print('prediction difference: {:03f}'.format(abs(1-float(yhat)/obs)))\n",
        "        print('\\n===============================================')\n",
        "        error = mean_squared_error(df_test, predictions)\n",
        "        print('Test MSE: {:03f}\\n\\n'.format(error))\n",
        "    except:\n",
        "        obs = yhat\n",
        "        print('predicted={:03f}'.format(float(yhat)))\n",
        "\n",
        "    history.append(obs)"
      ],
      "metadata": {
        "colab": {
          "base_uri": "https://localhost:8080/"
        },
        "id": "ZeBTT69bFw3k",
        "outputId": "608983f7-0560-4176-d745-23edb70a8049"
      },
      "execution_count": 21,
      "outputs": [
        {
          "output_type": "stream",
          "name": "stdout",
          "text": [
            "\n",
            "===============================================\n",
            "date: 2022-2\n",
            "-----------------------------------------------\n",
            "predicted=790400.960231, expected=812339.000000\n",
            "prediction difference: 0.027006\n",
            "\n",
            "===============================================\n",
            "predicted=790400.960231\n",
            "\n",
            "===============================================\n",
            "date: 2022-3\n",
            "-----------------------------------------------\n",
            "predicted=792467.728948, expected=817895.000000\n",
            "prediction difference: 0.031089\n",
            "\n",
            "===============================================\n",
            "predicted=792467.728948\n"
          ]
        },
        {
          "output_type": "stream",
          "name": "stderr",
          "text": [
            "/usr/local/lib/python3.7/dist-packages/statsmodels/base/data.py:629: VisibleDeprecationWarning: Creating an ndarray from ragged nested sequences (which is a list-or-tuple of lists-or-tuples-or ndarrays with different lengths or shapes) is deprecated. If you meant to do this, you must specify 'dtype=object' when creating the ndarray.\n",
            "  endog = np.asarray(endog)\n",
            "/usr/local/lib/python3.7/dist-packages/statsmodels/tsa/arima_model.py:424: VisibleDeprecationWarning: Creating an ndarray from ragged nested sequences (which is a list-or-tuple of lists-or-tuples-or ndarrays with different lengths or shapes) is deprecated. If you meant to do this, you must specify 'dtype=object' when creating the ndarray.\n",
            "  _endog = endog if hasattr(endog, 'ndim') else np.asarray(endog)\n"
          ]
        },
        {
          "output_type": "stream",
          "name": "stdout",
          "text": [
            "\n",
            "===============================================\n",
            "date: 2022-4\n",
            "-----------------------------------------------\n",
            "predicted=794436.732439, expected=865358.000000\n",
            "prediction difference: 0.081956\n",
            "\n",
            "===============================================\n",
            "predicted=794436.732439\n",
            "\n",
            "===============================================\n",
            "date: 2022-5\n",
            "-----------------------------------------------\n",
            "predicted=796409.033415, expected=869453.000000\n",
            "prediction difference: 0.084011\n",
            "\n",
            "===============================================\n",
            "predicted=796409.033415\n",
            "\n",
            "===============================================\n",
            "date: 2022-6\n",
            "-----------------------------------------------\n",
            "predicted=798362.936596, expected=851362.000000\n",
            "prediction difference: 0.062252\n",
            "\n",
            "===============================================\n",
            "Test MSE: 2860394334.147131\n",
            "\n",
            "\n",
            "\n",
            "===============================================\n",
            "date: 2022-7\n",
            "-----------------------------------------------\n",
            "predicted=861982.166978\n"
          ]
        },
        {
          "output_type": "stream",
          "name": "stderr",
          "text": [
            "/usr/local/lib/python3.7/dist-packages/statsmodels/base/data.py:629: VisibleDeprecationWarning: Creating an ndarray from ragged nested sequences (which is a list-or-tuple of lists-or-tuples-or ndarrays with different lengths or shapes) is deprecated. If you meant to do this, you must specify 'dtype=object' when creating the ndarray.\n",
            "  endog = np.asarray(endog)\n",
            "/usr/local/lib/python3.7/dist-packages/statsmodels/tsa/arima_model.py:424: VisibleDeprecationWarning: Creating an ndarray from ragged nested sequences (which is a list-or-tuple of lists-or-tuples-or ndarrays with different lengths or shapes) is deprecated. If you meant to do this, you must specify 'dtype=object' when creating the ndarray.\n",
            "  _endog = endog if hasattr(endog, 'ndim') else np.asarray(endog)\n"
          ]
        },
        {
          "output_type": "stream",
          "name": "stdout",
          "text": [
            "\n",
            "===============================================\n",
            "date: 2022-8\n",
            "-----------------------------------------------\n",
            "predicted=865516.144441\n",
            "\n",
            "===============================================\n",
            "date: 2022-9\n",
            "-----------------------------------------------\n",
            "predicted=867888.776047\n",
            "\n",
            "===============================================\n",
            "date: 2022-10\n",
            "-----------------------------------------------\n",
            "predicted=870092.408569\n",
            "\n",
            "===============================================\n",
            "date: 2022-11\n",
            "-----------------------------------------------\n",
            "predicted=872264.022077\n",
            "\n",
            "===============================================\n",
            "date: 2022-12\n",
            "-----------------------------------------------\n",
            "predicted=874434.996709\n",
            "\n",
            "===============================================\n",
            "date: 2022-13\n",
            "-----------------------------------------------\n",
            "predicted=876589.137727\n",
            "\n",
            "===============================================\n",
            "date: 2022-14\n",
            "-----------------------------------------------\n",
            "predicted=878740.578314\n",
            "\n",
            "===============================================\n",
            "date: 2022-3\n",
            "-----------------------------------------------\n",
            "predicted=880891.585685\n",
            "\n",
            "===============================================\n",
            "date: 2022-4\n",
            "-----------------------------------------------\n",
            "predicted=883060.075011\n",
            "\n",
            "===============================================\n",
            "date: 2022-5\n",
            "-----------------------------------------------\n",
            "predicted=885213.871531\n",
            "\n",
            "===============================================\n",
            "date: 2022-6\n",
            "-----------------------------------------------\n",
            "predicted=887365.310856\n"
          ]
        }
      ]
    },
    {
      "cell_type": "code",
      "source": [
        "# plot rolling prediction\n",
        "def rolling_plot(data, predictions):\n",
        "    plt.plot(predictions, color='red')\n",
        "    plt.plot(df_test)\n",
        "    plt.xticks(rotation=90)\n",
        "    plt.title('Predictions (Red) vs Expected (Blue)')\n",
        "    plt.show()\n",
        "    ax.set_xlim([25, 50])\n",
        "rolling_plot(y, predictions)"
      ],
      "metadata": {
        "colab": {
          "base_uri": "https://localhost:8080/",
          "height": 337
        },
        "id": "BWC0H_EYF-sT",
        "outputId": "24b23a06-8f6a-4788-aadf-ed98d32a8713"
      },
      "execution_count": 22,
      "outputs": [
        {
          "output_type": "display_data",
          "data": {
            "text/plain": [
              "<Figure size 432x288 with 1 Axes>"
            ],
            "image/png": "[encoded data removed]"
          },
          "metadata": {
            "needs_background": "light"
          }
        }
      ]
    }
  ],
  "metadata": {
    "colab": {
      "collapsed_sections": [],
      "name": "Zip94804.ipynb",
      "provenance": [],
      "history_visible": true,
      "authorship_tag": "ABX9TyPzyLfb4X7fcJryTdYo3pQe",
      "include_colab_link": true
    },
    "kernelspec": {
      "display_name": "Python 3",
      "name": "python3"
    },
    "language_info": {
      "name": "python"
    }
  },
  "nbformat": 4,
  "nbformat_minor": 0
}
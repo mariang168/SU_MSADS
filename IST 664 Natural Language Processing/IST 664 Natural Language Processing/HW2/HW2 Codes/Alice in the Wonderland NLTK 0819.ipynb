{
 "cells": [
  {
   "cell_type": "code",
   "execution_count": 1,
   "metadata": {},
   "outputs": [],
   "source": [
    "# HW2:  \n",
    "# Getting started to process a text example\n",
    "import nltk\n",
    "from nltk import FreqDist\n",
    "\n",
    "import re"
   ]
  },
  {
   "cell_type": "code",
   "execution_count": 2,
   "metadata": {},
   "outputs": [],
   "source": [
    "#Hemingway Analysis\n",
    "#hemingway = open('C:\\\\Users\\\\maria\\\\inourtime.txt')\n",
    "#filetext = hemingway.read()\n"
   ]
  },
  {
   "cell_type": "code",
   "execution_count": 3,
   "metadata": {},
   "outputs": [
    {
     "data": {
      "text/plain": [
       "144395"
      ]
     },
     "execution_count": 3,
     "metadata": {},
     "output_type": "execute_result"
    }
   ],
   "source": [
    "# get the text of the book Emma from the Gutenberg corpus, tokenize it,\n",
    "#   and reduce the tokens to lowercase.\n",
    "file7 = nltk.corpus.gutenberg.fileids( ) [7]\n",
    "text = nltk.corpus.gutenberg.raw(file7)\n",
    "len(text)"
   ]
  },
  {
   "cell_type": "code",
   "execution_count": 4,
   "metadata": {},
   "outputs": [
    {
     "name": "stdout",
     "output_type": "stream",
     "text": [
      "[\"[Alice's Adventures in Wonderland by Lewis Carroll 1865]\\n\\nCHAPTER I.\", \"Down the Rabbit-Hole\\n\\nAlice was beginning to get very tired of sitting by her sister on the\\nbank, and of having nothing to do: once or twice she had peeped into the\\nbook her sister was reading, but it had no pictures or conversations in\\nit, 'and what is the use of a book,' thought Alice 'without pictures or\\nconversation?'\", 'So she was considering in her own mind (as well as she could, for the\\nhot day made her feel very sleepy and stupid), whether the pleasure\\nof making a daisy-chain would be worth the trouble of getting up and\\npicking the daisies, when suddenly a White Rabbit with pink eyes ran\\nclose by her.', \"There was nothing so VERY remarkable in that; nor did Alice think it so\\nVERY much out of the way to hear the Rabbit say to itself, 'Oh dear!\", 'Oh dear!', \"I shall be late!'\", '(when she thought it over afterwards, it\\noccurred to her that she ought to have wondered at this, but at the time\\nit all seemed quite natural); but when the Rabbit actually TOOK A WATCH\\nOUT OF ITS WAISTCOAT-POCKET, and looked at it, and then hurried on,\\nAlice started to her feet, for it flashed across her mind that she had\\nnever before seen a rabbit with either a waistcoat-pocket, or a watch\\nto take out of it, and burning with curiosity, she ran across the field\\nafter it, and fortunately was just in time to see it pop down a large\\nrabbit-hole under the hedge.', 'In another moment down went Alice after it, never once considering how\\nin the world she was to get out again.', 'The rabbit-hole went straight on like a tunnel for some way, and then\\ndipped suddenly down, so suddenly that Alice had not a moment to think\\nabout stopping herself before she found herself falling down a very deep\\nwell.', 'Either the well was very deep, or she fell very slowly, for she had\\nplenty of time as she went down to look about her and to wonder what was\\ngoing to happen next.']\n"
     ]
    }
   ],
   "source": [
    "#%%\n",
    "\n",
    "## CODE IDEAS FOR HMW 2, Exploratory exercise for sentiment analysis\n",
    "# finding adverb and adjective phrases, and computing basic statistics\n",
    "\n",
    "# importing required nltk libraries\n",
    "import nltk\n",
    "from nltk import sent_tokenize\n",
    "\n",
    "# loading our corpus (for this example: \"Crime and Punishment,\" by F. Dostoevsky)\n",
    "#f = open('CrimeAndPunishment.txt')\n",
    "#text = f.read()\n",
    "#print(text[:150])\n",
    "\n",
    "#%%\n",
    "\n",
    "# Preprocessing, as explained in the Labs\n",
    "# Separate the text into sentences first\n",
    "textsplit = nltk.sent_tokenize(text)\n",
    "print(textsplit[:10])\n",
    "\n"
   ]
  },
  {
   "cell_type": "code",
   "execution_count": 5,
   "metadata": {},
   "outputs": [
    {
     "name": "stdout",
     "output_type": "stream",
     "text": [
      "[['[', 'Alice', \"'s\", 'Adventures', 'in', 'Wonderland', 'by', 'Lewis', 'Carroll', '1865', ']', 'CHAPTER', 'I', '.'], ['Down', 'the', 'Rabbit-Hole', 'Alice', 'was', 'beginning', 'to', 'get', 'very', 'tired', 'of', 'sitting', 'by', 'her', 'sister', 'on', 'the', 'bank', ',', 'and', 'of', 'having', 'nothing', 'to', 'do', ':', 'once', 'or', 'twice', 'she', 'had', 'peeped', 'into', 'the', 'book', 'her', 'sister', 'was', 'reading', ',', 'but', 'it', 'had', 'no', 'pictures', 'or', 'conversations', 'in', 'it', ',', \"'and\", 'what', 'is', 'the', 'use', 'of', 'a', 'book', ',', \"'\", 'thought', 'Alice', \"'without\", 'pictures', 'or', 'conversation', '?', \"'\"]]\n"
     ]
    },
    {
     "data": {
      "text/plain": [
       "1625"
      ]
     },
     "execution_count": 5,
     "metadata": {},
     "output_type": "execute_result"
    }
   ],
   "source": [
    "#%%\n",
    "\n",
    "# Apply the word tokenizer to each sentence\n",
    "tokentext = [nltk.word_tokenize(sent) for sent in textsplit]\n",
    "print(tokentext[:2])\n",
    "#the output is a list of strings that contains the sentences\n",
    "type(tokentext)\n",
    "len(tokentext)\n",
    "\n"
   ]
  },
  {
   "cell_type": "code",
   "execution_count": 6,
   "metadata": {},
   "outputs": [
    {
     "name": "stdout",
     "output_type": "stream",
     "text": [
      "[[('[', 'JJ'), ('Alice', 'NNP'), (\"'s\", 'POS'), ('Adventures', 'NNS'), ('in', 'IN'), ('Wonderland', 'NNP'), ('by', 'IN'), ('Lewis', 'NNP'), ('Carroll', 'NNP'), ('1865', 'CD'), (']', 'NNP'), ('CHAPTER', 'NNP'), ('I', 'PRP'), ('.', '.')], [('Down', 'IN'), ('the', 'DT'), ('Rabbit-Hole', 'JJ'), ('Alice', 'NNP'), ('was', 'VBD'), ('beginning', 'VBG'), ('to', 'TO'), ('get', 'VB'), ('very', 'RB'), ('tired', 'JJ'), ('of', 'IN'), ('sitting', 'VBG'), ('by', 'IN'), ('her', 'PRP$'), ('sister', 'NN'), ('on', 'IN'), ('the', 'DT'), ('bank', 'NN'), (',', ','), ('and', 'CC'), ('of', 'IN'), ('having', 'VBG'), ('nothing', 'NN'), ('to', 'TO'), ('do', 'VB'), (':', ':'), ('once', 'RB'), ('or', 'CC'), ('twice', 'VB'), ('she', 'PRP'), ('had', 'VBD'), ('peeped', 'VBN'), ('into', 'IN'), ('the', 'DT'), ('book', 'NN'), ('her', 'PRP$'), ('sister', 'NN'), ('was', 'VBD'), ('reading', 'VBG'), (',', ','), ('but', 'CC'), ('it', 'PRP'), ('had', 'VBD'), ('no', 'DT'), ('pictures', 'NNS'), ('or', 'CC'), ('conversations', 'NNS'), ('in', 'IN'), ('it', 'PRP'), (',', ','), (\"'and\", 'VB'), ('what', 'WP'), ('is', 'VBZ'), ('the', 'DT'), ('use', 'NN'), ('of', 'IN'), ('a', 'DT'), ('book', 'NN'), (',', ','), (\"'\", \"''\"), ('thought', 'JJ'), ('Alice', 'NNP'), (\"'without\", 'POS'), ('pictures', 'NNS'), ('or', 'CC'), ('conversation', 'NN'), ('?', '.'), (\"'\", \"''\")]]\n"
     ]
    }
   ],
   "source": [
    "#%%\n",
    "\n",
    "## POS Tagging, to retrieve adjective (JJs) and adverb (RBs) tags\n",
    "\n",
    "# use the Stanford POS tagger to POS tag tokens of each sentence\n",
    "# this is the default tagger in nltk\n",
    "taggedtext = [nltk.pos_tag(tokens) for tokens in tokentext]\n",
    "print(taggedtext[:2])\n",
    "\n"
   ]
  },
  {
   "cell_type": "code",
   "execution_count": 7,
   "metadata": {},
   "outputs": [],
   "source": [
    "#%%\n",
    "\n",
    "# Following our NLTK textbook, chapter on Information Extraction--Chunking (https://www.nltk.org/book/ch07.html)\n",
    "\n",
    "# Using CHUNKING to parse sentences \n",
    "# to look for \"adjective phrases\", i.e. phrases (or chunks) that have adverbs and adjectives ('RB'+'JJ')\n",
    "# First step: writing a grammar that defines the POS in the chunk\n",
    "# we name this grammar \"ADJPH\" (\"ADJective PHrase\") using regexes \n",
    "\n",
    "import re\n",
    "grammar_adjph = \"ADJPH: {<RB.?>+<JJ.?>}\"\n",
    "# This regex reads as: \"find groups (\"< >\") of RBs (adverbs) together with groups of JJs (adjectives), with groups defineds as\n",
    "# RBs with any ending (the \".\" is a placeholder or wildcard for the \"R\" and the \"S\" at the end of RBR and RBS, \n",
    "# while \"?\" indicates \"optional character\" so RB can be found alone as well). Same regex operators apply to JJs.\n",
    "\n",
    "# Second step: import the nltk parser to process each sentence\n",
    "chunk_parser_adj = nltk.RegexpParser(grammar_adjph)\n",
    "\n",
    "adjph_tags = []\n",
    "for sent in taggedtext:\n",
    "    if len(sent) > 0:\n",
    "        tree = chunk_parser_adj.parse(sent)\n",
    "        for subtree in tree.subtrees():\n",
    "            if subtree.label() == 'ADJPH':\n",
    "                adjph_tags.append(subtree)\n",
    "                \n"
   ]
  },
  {
   "cell_type": "code",
   "execution_count": 8,
   "metadata": {},
   "outputs": [
    {
     "name": "stdout",
     "output_type": "stream",
     "text": [
      "First 10 adjective phrases:  ['very tired ', 'very sleepy ', 'so VERY remarkable ', 'so VERY much ', 'quite natural ', 'very deep ', 'very deep ', 'too dark ', 'very likely ', 'VERY good ', 'rather glad ', 'very much ', \"n't much \", 'no longer ', 'too large ', 'too small ', 'not much larger ', 'very little ', 'so many ', 'very few ', 'really impossible ', 'almost certain ', 'very nice ', 'now only ten ', 'too slippery ', 'very good ', 'very fond ', 'very small ', 'quite surprised ', 'so much ', 'quite dull ', 'so much ', 'now more ', 'as much ', 'so desperate ', 'very hot ', 'very little ', 'ever so many ', 'so VERY tired ', 'very glad ', 'so small ', 'too bad ', 'so much ', 'so out-of-the-way ', 'very likely ', 'very tired ', 'very clear ', 'curly brown ', 'so useful ', 'as hard ', 'quite pale ', 'quite natural ', 'more energetic ', 'not easy ', 'quite dry ', 'very absurd ', 'so grave ', 'always ready ', 'always ready ', 'soon left ', 'here poor ', 'as sure ', 'so much ', 'much sooner ', 'quite enough ', 'quite so much ', 'too late ', 'very uncomfortable ', 'almost wish ', 'rather curious ', 'as large ', 'just possible ', 'together first ', 'as loud ', 'very likely ', 'very like ', 'very little ', 'quite tired ', 'very much ', 'so many ', 'very confusing ', 'very melancholy ', 'very white ', 'perfectly sure ', 'very supple ', 'too weak ', 'as steady ', 'not particular ', 'so much ', 'very good ', 'so easily offended ', 'very difficult ', 'very sudden ', 'more subdued ', 'more puzzled ', 'very sorry ', 'very truthful ', 'quite as much ', 'quite silent ', 'sometimes shorter ', 'so long ', 'quite strange ', 'never sure ', 'very curious ', 'nearly as large ', 'so much ', 'most extraordinary ', 'decidedly uncivil ', 'really dreadful ', 'perfectly idiotic ', 'certainly too much ', 'certainly too much ', 'not quite sure ', 'so much ', 'quite impossible ', 'unusually large ', 'very glad ', 'as much ', 'extremely small ', 'neither more ', 'quite absurd ', 'dreadfully ugly ', 'not mad ', 'not much ', 'most interesting ', 'not so mad ', 'most curious ', 'so large ', 'almost wish ', 'fast asleep ', \"n't very civil \", \"n't very civil \", 'very rude ', 'very wide ', \"n't much \", 'dreadfully savage ', 'so many ', 'too much ', 'more tea ', 'very easy ', 'so confused ', 'very curious ', 'Once more ', 'very curious ', 'rather doubtful ', 'very humble ', 'very much ', 'very fine ', 'rather late ', 'very difficult ', 'very short ', 'very uneasy ', 'very glad ', 'hardly worth ', 'little more ', 'quite silent ', 'very uncomfortable ', 'so grave ', 'very glad ', 'so savage ', 'very hopeful ', 'always pepper ', 'only wish ', 'so stingy ', 'not much ', 'rather better ', \"'Just about as much \", 'too much ', 'quite unhappy ', 'so ordered ', 'here young ', 'very long ', 'more calmly ', 'very dull ', 'so proud ', 'really good ', 'too stiff ', 'very decided ', 'very pretty ', \"'Very much \", 'too close ', 'not pale ', 'very interesting ', 'very glad ', 'very interesting ', 'so much ', 'so close ', 'perfectly quiet ', 'very curious ', 'as curious ', 'so full ', 'very queer ', 'too brown ', 'most confusing ', 'only too glad ', 'rather offended ', 'very middle ', 'so good ', 'quite hungry ', 'quite pleased ', 'very few ', 'very little ', \"n't mine \", 'very curious ', 'so thin ', 'more bread-and-butter ', 'very poor ', 'very curious ', 'very much ', 'very grave ', 'quite unable ', 'QUITE as much ', 'too much ', 'very important ', 'very respectful ', 'near enough ', \"n't usual \", 'really clever ', 'most important ', 'so large ', 'once more ', 'once more ']\n"
     ]
    }
   ],
   "source": [
    "# Visualizing the actual adjective phrase\n",
    "adjective_phrases = []\n",
    "for sent in adjph_tags:\n",
    "    temp = ''\n",
    "    for w, t in sent:\n",
    "        temp += w+ ' '    \n",
    "    adjective_phrases.append(temp)\n",
    "    \n",
    "print('First 10 adjective phrases: ', adjective_phrases[:222])\n",
    "\n",
    "\n"
   ]
  },
  {
   "cell_type": "code",
   "execution_count": 12,
   "metadata": {},
   "outputs": [
    {
     "name": "stdout",
     "output_type": "stream",
     "text": [
      "Top adjective phrases by frequency: \n",
      "so much  8\n",
      "very curious  6\n",
      "very glad  5\n",
      "very much  4\n",
      "very little  4\n",
      "very likely  3\n",
      "so many  3\n",
      "too much  3\n",
      "very tired  2\n",
      "quite natural  2\n",
      "very deep  2\n",
      "n't much  2\n",
      "very few  2\n",
      "very good  2\n",
      "as much  2\n",
      "so grave  2\n",
      "always ready  2\n",
      "very uncomfortable  2\n",
      "almost wish  2\n",
      "very difficult  2\n",
      "quite silent  2\n",
      "certainly too much  2\n",
      "not much  2\n",
      "so large  2\n",
      "n't very civil  2\n",
      "very interesting  2\n",
      "once more  2\n",
      "very sleepy  1\n",
      "so VERY remarkable  1\n",
      "so VERY much  1\n",
      "too dark  1\n",
      "VERY good  1\n",
      "rather glad  1\n",
      "no longer  1\n",
      "too large  1\n",
      "too small  1\n",
      "not much larger  1\n",
      "really impossible  1\n",
      "almost certain  1\n",
      "very nice  1\n",
      "now only ten  1\n",
      "too slippery  1\n",
      "very fond  1\n",
      "very small  1\n",
      "quite surprised  1\n",
      "quite dull  1\n",
      "now more  1\n",
      "so desperate  1\n",
      "very hot  1\n",
      "ever so many  1\n"
     ]
    }
   ],
   "source": [
    "# Following our NLTK textbook, chapter 1 on Language Processing (https://www.nltk.org/book/ch01.html)\n",
    "\n",
    "## FREQUENCY DISTRIBUTIONS\n",
    "# Top 50 adjective phrases\n",
    "freq_adjph = nltk.FreqDist(adjective_phrases)\n",
    "\n",
    "print('Top adjective phrases by frequency: ')\n",
    "for word, freq in freq_adjph.most_common(50):\n",
    "    print(word, freq)\n",
    "\n",
    "            \n"
   ]
  },
  {
   "cell_type": "code",
   "execution_count": 13,
   "metadata": {},
   "outputs": [
    {
     "name": "stdout",
     "output_type": "stream",
     "text": [
      "Length of adjective phrase sentences:  222\n"
     ]
    }
   ],
   "source": [
    "#print the list of our sentences:\n",
    "print('Length of adjective phrase sentences: ', len(adjph_tags))\n",
    "\n",
    "\n"
   ]
  },
  {
   "cell_type": "code",
   "execution_count": 14,
   "metadata": {},
   "outputs": [],
   "source": [
    "#%%\n",
    "\n",
    "# Now we look for \"adverb phrases\" or chunks that have 2 consecutive adverbs ('RB')\n",
    "# First step: writing a grammar that defines POS rules of the adverb phrase the chunk\n",
    "# we name this grammar \"ADVPH\" (\"ADVerb PHrase\")\n",
    "grammar_advph = \"ADVPH: {<RB>+<RB>}\"\n",
    "\n"
   ]
  },
  {
   "cell_type": "code",
   "execution_count": 15,
   "metadata": {},
   "outputs": [],
   "source": [
    "# Second step: import the nltk parser to process each sentence\n",
    "chunk_parser_adv = nltk.RegexpParser(grammar_advph)\n",
    "\n",
    "advph_tags = []\n",
    "for sent in taggedtext:\n",
    "    if len(sent) > 0:\n",
    "        tree = chunk_parser_adv.parse(sent)\n",
    "        for subtree in tree.subtrees():\n",
    "            if subtree.label() == 'ADVPH':\n",
    "                advph_tags.append(subtree)\n",
    "                \n"
   ]
  },
  {
   "cell_type": "code",
   "execution_count": 16,
   "metadata": {},
   "outputs": [
    {
     "name": "stdout",
     "output_type": "stream",
     "text": [
      "First 10 adverb phrases:  ['as well ', 'so VERY ', 'so VERY ', 'never before ', 'never once ', 'suddenly down ', 'very slowly ', 'down here ', 'very earnestly ', 'not much ']\n"
     ]
    }
   ],
   "source": [
    "# Visualizing the actual adjective phrase\n",
    "adverb_phrases = []\n",
    "for sent in advph_tags:\n",
    "    temp = ''\n",
    "    for w, t in sent:\n",
    "        temp += w+ ' '    \n",
    "    adverb_phrases.append(temp)\n",
    "    \n",
    "print('First 10 adverb phrases: ', adverb_phrases[:10])\n",
    "\n"
   ]
  },
  {
   "cell_type": "code",
   "execution_count": 17,
   "metadata": {},
   "outputs": [
    {
     "name": "stdout",
     "output_type": "stream",
     "text": [
      "Top adverb phrases by frequency: \n",
      "as well  15\n",
      "very soon  6\n",
      "very politely  5\n",
      "down here  4\n",
      "very much  4\n",
      "just as well  4\n",
      "so VERY  3\n",
      "very well  3\n",
      "so far  3\n",
      "Just then  3\n",
      "back again  3\n",
      "well enough  3\n",
      "down again  3\n",
      "as soon  3\n",
      "very carefully  3\n",
      "As soon  3\n",
      "so often  3\n",
      "not quite  3\n",
      "very nearly  3\n",
      "n't quite  3\n",
      "as long  3\n",
      "just now  3\n",
      "very slowly  2\n",
      "very earnestly  2\n",
      "not even  2\n",
      "too far  2\n",
      "as hard  2\n",
      "rather not  2\n",
      "very gravely  2\n",
      "very humbly  2\n",
      "very angrily  2\n",
      "so easily  2\n",
      "certainly too  2\n",
      "rather timidly  2\n",
      "'All right  2\n",
      "n't very  2\n",
      "'Exactly so  2\n",
      "asleep again  2\n",
      "never even  2\n",
      "n't even  2\n",
      "never before  1\n",
      "never once  1\n",
      "suddenly down  1\n",
      "not much  1\n",
      "not here before  1\n",
      "too long  1\n",
      "VERY deeply  1\n",
      "now only  1\n",
      "not possibly  1\n",
      "quite plainly  1\n"
     ]
    }
   ],
   "source": [
    "# top 50 adjective phrases\n",
    "freq_advph = nltk.FreqDist(adverb_phrases)\n",
    "\n",
    "print('Top adverb phrases by frequency: ')\n",
    "for word, freq in freq_advph.most_common(50):\n",
    "    print(word, freq)\n",
    "\n",
    "            \n"
   ]
  },
  {
   "cell_type": "code",
   "execution_count": 18,
   "metadata": {},
   "outputs": [
    {
     "name": "stdout",
     "output_type": "stream",
     "text": [
      "Length of adverb phrase sentences:  235\n"
     ]
    }
   ],
   "source": [
    "#print the list of our sentences:\n",
    "print('Length of adverb phrase sentences: ', len(advph_tags))\n",
    "\n"
   ]
  },
  {
   "cell_type": "code",
   "execution_count": 19,
   "metadata": {},
   "outputs": [
    {
     "name": "stdout",
     "output_type": "stream",
     "text": [
      "little 124\n",
      "other 40\n",
      "great 39\n",
      "much 34\n",
      "large 33\n",
      "last 32\n",
      "more 31\n",
      "first 31\n",
      "such 26\n",
      "poor 25\n",
      "thought 24\n",
      "good 24\n",
      "long 23\n",
      "same 23\n",
      "curious 19\n",
      "sure 19\n",
      "next 18\n",
      "old 17\n",
      "right 16\n",
      "low 14\n",
      "high 14\n",
      "whole 13\n",
      "mad 13\n",
      "many 12\n",
      "glad 11\n",
      "own 10\n",
      "small 10\n",
      "few 9\n",
      "best 9\n",
      "different 9\n",
      "least 9\n",
      "afraid 8\n",
      "white 8\n",
      "ready 8\n",
      "dear 8\n",
      "beautiful 8\n",
      "golden 7\n",
      "larger 7\n",
      "enough 7\n",
      "deep 6\n",
      "nice 6\n",
      "dry 6\n",
      "bright 6\n",
      "melancholy 6\n",
      "offended 6\n",
      "full 6\n",
      "sharp 6\n",
      "hot 5\n",
      "likely 5\n",
      "nervous 5\n"
     ]
    }
   ],
   "source": [
    "#%%\n",
    "\n",
    "# Top 50 adjective tokens\n",
    "\n",
    "adjective_tokens = []\n",
    "for sentence in taggedtext:\n",
    "    for word, pos in sentence:\n",
    "        if pos in ['JJ', 'JJR', 'JJS']: # adjective, comparative, superlative\n",
    "            if len(word)>1:\n",
    "                adjective_tokens.append(word)\n",
    "freq_adjective = nltk.FreqDist(adjective_tokens)\n",
    "\n",
    "for word, freq in freq_adjective.most_common(50):\n",
    "    print(word,freq)\n",
    "\n"
   ]
  },
  {
   "cell_type": "code",
   "execution_count": 20,
   "metadata": {},
   "outputs": [
    {
     "name": "stdout",
     "output_type": "stream",
     "text": [
      "n't 203\n",
      "not 128\n",
      "very 126\n",
      "so 91\n",
      "again 83\n",
      "then 72\n",
      "quite 48\n",
      "now 47\n",
      "as 45\n",
      "just 44\n",
      "never 41\n",
      "only 41\n",
      "here 39\n",
      "down 36\n",
      "once 31\n",
      "well 31\n",
      "back 31\n",
      "too 25\n",
      "rather 25\n",
      "soon 24\n",
      "up 24\n",
      "away 23\n",
      "yet 21\n",
      "ever 20\n",
      "even 17\n",
      "much 17\n",
      "more 16\n",
      "indeed 15\n",
      "perhaps 14\n",
      "anxiously 14\n",
      "hastily 14\n",
      "first 13\n",
      "However 13\n",
      "certainly 13\n",
      "far 13\n",
      "suddenly 12\n",
      "there 12\n",
      "still 12\n",
      "about 12\n",
      "always 12\n",
      "else 11\n",
      "hardly 11\n",
      "enough 11\n",
      "really 10\n",
      "nearly 10\n",
      "So 9\n",
      "Then 9\n",
      "angrily 9\n",
      "together 9\n",
      "timidly 9\n"
     ]
    }
   ],
   "source": [
    "#%%\n",
    "\n",
    "# Top 50 adverb tokens\n",
    "\n",
    "adverb_tokens = []\n",
    "for sentence in taggedtext:\n",
    "    for word, pos in sentence:\n",
    "        if pos in ['RB', 'RBR', 'RBS']: # adverb, comparative, superlative\n",
    "            if len(word)>1:\n",
    "                adverb_tokens.append(word)\n",
    "freq_adverb = nltk.FreqDist(adverb_tokens)\n",
    "\n",
    "for word, freq in freq_adverb.most_common(50):\n",
    "    print(word,freq)\n",
    "\n"
   ]
  },
  {
   "cell_type": "code",
   "execution_count": 44,
   "metadata": {},
   "outputs": [],
   "source": [
    "#%%\n",
    "\n",
    "## TO DO / YOUR TURN NOW!\n",
    "## NOUN EXTRACTION\n",
    "## VERB EXTRACTION\n",
    "## REMEMBER TO CHECK THE PENN POS TAGS LIST: https://www.ling.upenn.edu/courses/Fall_2003/ling001/penn_treebank_pos.html\n",
    "## TO FIND ALL TAGS\n",
    "\n"
   ]
  },
  {
   "cell_type": "code",
   "execution_count": 45,
   "metadata": {},
   "outputs": [
    {
     "name": "stdout",
     "output_type": "stream",
     "text": [
      "464\n"
     ]
    }
   ],
   "source": [
    "#%%\n",
    "\n",
    "# Now we have two lists of POS tags combinations we can compare\n",
    "# We need to get the sentences back from the tagging exercise and run some stats\n",
    "\n",
    "# Create a list of original sentences from the ADJECTIVE phrase subset:\n",
    "adjph_whole_sentences = []\n",
    "\n",
    "# loop over the sentences in the adjective phrase sentences we created:\n",
    "for sents in adjph_tags:\n",
    "    temp=''\n",
    "    for (word,tag) in sents:\n",
    "        temp += word+' '\n",
    "        adjph_whole_sentences.append(temp)\n",
    "        \n",
    "print(len(adjph_whole_sentences))\n",
    "\n"
   ]
  },
  {
   "cell_type": "code",
   "execution_count": 46,
   "metadata": {},
   "outputs": [
    {
     "name": "stdout",
     "output_type": "stream",
     "text": [
      "484\n"
     ]
    }
   ],
   "source": [
    "#%%\n",
    "\n",
    "# Create a list of original sentences from the ADVERB phrase subset:\n",
    "advph_whole_sentences = []\n",
    "\n",
    "# loop over the sentences in the adjective phrase sentences we created:\n",
    "for sents in advph_tags:\n",
    "    temp=''\n",
    "    for (word,tag) in sents:\n",
    "        temp += word+' '\n",
    "        advph_whole_sentences.append(temp)\n",
    "        \n",
    "print(len(advph_whole_sentences))\n",
    "\n"
   ]
  },
  {
   "cell_type": "code",
   "execution_count": 47,
   "metadata": {},
   "outputs": [
    {
     "name": "stdout",
     "output_type": "stream",
     "text": [
      "633\n"
     ]
    }
   ],
   "source": [
    "#%%\n",
    "\n",
    "# OPTIONAL STEP: Combine lists together to have a single list of adjective/adverb phrases:\n",
    "# Useful to know which sentences are heavy in qualifiers\n",
    "\n",
    "# create a new variable to store all adjective phrase sentences\n",
    "adv_adj_phrase_sentences = adjph_whole_sentences\n",
    "\n",
    "# iterate over adverb phrase sentences\n",
    "for sent in advph_whole_sentences:\n",
    "    # if a sentence is not in the adjective phrases list imported\n",
    "    if sent not in adv_adj_phrase_sentences:\n",
    "        # attach that sentence\n",
    "        adv_adj_phrase_sentences.append(sent)\n",
    "\n",
    "# print the lenght of the list (i.e. number of sentences with both adjective and adverb phrases)\n",
    "print(len(adv_adj_phrase_sentences))\n",
    "\n",
    "\n"
   ]
  },
  {
   "cell_type": "code",
   "execution_count": 48,
   "metadata": {},
   "outputs": [
    {
     "name": "stdout",
     "output_type": "stream",
     "text": [
      "87.26892307692307\n"
     ]
    }
   ],
   "source": [
    "#%%\n",
    "\n",
    "# Following our NLTK textbook, Writing Structural Programs chapter\n",
    "# section on Procedural vs Declarative style (http://www.nltk.org/book_1ed/ch04.html) \n",
    "\n",
    "## CORPUS STATISTICS--SENTENCES LENGTH\n",
    "\n",
    "# Calculating the average length of sentences in the entire corpus\n",
    "# from http://www.nltk.org/book_1ed/ch04.html\n",
    "total_corpus = sum(len(sent) for sent in textsplit) # remember: 'textsplit' is our text split into sentences\n",
    "print(total_corpus / len(textsplit))\n",
    "\n"
   ]
  },
  {
   "cell_type": "code",
   "execution_count": 49,
   "metadata": {},
   "outputs": [
    {
     "name": "stdout",
     "output_type": "stream",
     "text": [
      "9.262243285939968\n"
     ]
    }
   ],
   "source": [
    "#%%\n",
    "\n",
    "# Calculate the average length of an adjective phrase sentence\n",
    "# We can then compare the average length of the adjective phrases to \n",
    "# the average sentences we calculated for all sentences in the corpus\n",
    "total_adjph_sentences = sum(len(sent) for sent in adjph_whole_sentences) # adjph_whole_sentences stores our adjective phrases\n",
    "print(total_adjph_sentences / len(adjph_whole_sentences))\n",
    "\n",
    "#%%\n"
   ]
  },
  {
   "cell_type": "code",
   "execution_count": 50,
   "metadata": {},
   "outputs": [
    {
     "data": {
      "text/plain": [
       "144395"
      ]
     },
     "execution_count": 50,
     "metadata": {},
     "output_type": "execute_result"
    }
   ],
   "source": [
    "# get the text of the book Emma from the Gutenberg corpus, tokenize it,\n",
    "#   and reduce the tokens to lowercase.\n",
    "file7 = nltk.corpus.gutenberg.fileids( ) [7]\n",
    "filetext = nltk.corpus.gutenberg.raw(file7)\n",
    "len(filetext)"
   ]
  },
  {
   "cell_type": "code",
   "execution_count": 51,
   "metadata": {},
   "outputs": [
    {
     "data": {
      "image/png": "[encoded data removed]",
      "text/plain": [
       "<Figure size 720x360 with 1 Axes>"
      ]
     },
     "metadata": {
      "needs_background": "light"
     },
     "output_type": "display_data"
    }
   ],
   "source": [
    "import numpy as np\n",
    "import matplotlib.pyplot as plt\n",
    " \n",
    "  \n",
    "# creating the dataset\n",
    "data = {'Hemingway Adjective Phrase':160, 'Carroll Adjective Phrase':222, 'Hemingway Adverb Phrase':140,\n",
    "        'Carroll Adverb Phrase':235 }\n",
    "courses = list(data.keys())\n",
    "values = list(data.values())\n",
    "  \n",
    "fig = plt.figure(figsize = (10, 5))\n",
    " \n",
    "# creating the bar plot\n",
    "plt.bar(courses, values, color ='maroon',\n",
    "        width = 0.4)\n",
    " \n",
    "plt.xlabel(\"# of Tokens\")\n",
    "plt.ylabel(\"Adjective and Adverb Phrases\")\n",
    "plt.title(\"Hemingway vs. Carroll Adjective and Adverb Phrases\")\n",
    "plt.show()"
   ]
  },
  {
   "cell_type": "code",
   "execution_count": 52,
   "metadata": {},
   "outputs": [
    {
     "data": {
      "image/png": "[encoded data removed]",
      "text/plain": [
       "<Figure size 720x360 with 1 Axes>"
      ]
     },
     "metadata": {
      "needs_background": "light"
     },
     "output_type": "display_data"
    }
   ],
   "source": [
    "# creating the dataset\n",
    "data = {'Hemingway Adjective Token':1745, 'Carroll Adjective Token':1488, 'Hemingway Adverb Token':1895,\n",
    "        'Carroll Adverb Token':2107 }\n",
    "courses = list(data.keys())\n",
    "values = list(data.values())\n",
    "  \n",
    "fig = plt.figure(figsize = (10, 5))\n",
    " \n",
    "# creating the bar plot\n",
    "plt.bar(courses, values, color ='olive',\n",
    "        width = 0.4)\n",
    " \n",
    "plt.xlabel(\"# of Tokens\")\n",
    "plt.ylabel(\"Adjective and Adverb Tokens\")\n",
    "plt.title(\"Hemingway vs. Carroll Adjective and Adverb Tokens\")\n",
    "plt.show()"
   ]
  },
  {
   "cell_type": "code",
   "execution_count": 53,
   "metadata": {},
   "outputs": [
    {
     "data": {
      "image/png": "[encoded data removed]",
      "text/plain": [
       "<Figure size 720x360 with 1 Axes>"
      ]
     },
     "metadata": {
      "needs_background": "light"
     },
     "output_type": "display_data"
    }
   ],
   "source": [
    "# creating the dataset\n",
    "data = {'Hemingway Adjective':343, 'Carroll Adjective':464, 'Hemingway Adverb':291,\n",
    "        'Carroll Adverb':484 }\n",
    "courses = list(data.keys())\n",
    "values = list(data.values())\n",
    "  \n",
    "fig = plt.figure(figsize = (10, 5))\n",
    " \n",
    "# creating the bar plot\n",
    "plt.bar(courses, values, color ='blue',\n",
    "        width = 0.4)\n",
    " \n",
    "plt.xlabel(\"# of Tokens\")\n",
    "plt.ylabel(\"Adjective and Adverb Whole Sentence\")\n",
    "plt.title(\"Hemingway vs. Carroll Adjective and Adverb Whole Sentence\")\n",
    "plt.show()"
   ]
  },
  {
   "cell_type": "code",
   "execution_count": null,
   "metadata": {},
   "outputs": [],
   "source": []
  }
 ],
 "metadata": {
  "kernelspec": {
   "display_name": "Python 3",
   "language": "python",
   "name": "python3"
  },
  "language_info": {
   "codemirror_mode": {
    "name": "ipython",
    "version": 3
   },
   "file_extension": ".py",
   "mimetype": "text/x-python",
   "name": "python",
   "nbconvert_exporter": "python",
   "pygments_lexer": "ipython3",
   "version": "3.8.5"
  }
 },
 "nbformat": 4,
 "nbformat_minor": 4
}

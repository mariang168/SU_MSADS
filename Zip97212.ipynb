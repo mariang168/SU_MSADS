{
  "nbformat": 4,
  "nbformat_minor": 0,
  "metadata": {
    "colab": {
      "name": "Zip97212.ipynb",
      "provenance": [],
      "collapsed_sections": [],
      "authorship_tag": "ABX9TyNWs7lCE7amwIjkPR3VqMDl",
      "include_colab_link": true
    },
    "kernelspec": {
      "name": "python3",
      "display_name": "Python 3"
    },
    "language_info": {
      "name": "python"
    }
  },
  "cells": [
    {
      "cell_type": "markdown",
      "metadata": {
        "id": "view-in-github",
        "colab_type": "text"
      },
      "source": [
        "<a href=\"https://colab.research.google.com/github/mariang168/SU_MSADS/blob/main/Zip97212.ipynb\" target=\"_parent\"><img src=\"https://colab.research.google.com/assets/colab-badge.svg\" alt=\"Open In Colab\"/></a>"
      ]
    },
    {
      "cell_type": "code",
      "execution_count": 43,
      "metadata": {
        "id": "AwtTVyPuTmU4"
      },
      "outputs": [],
      "source": [
        "## SAMPLE TIME SERIES USING RETAIL DATA\n",
        "## BASED ON MILLER (2015) and BROWNLEE (2016)\n",
        "\n",
        "import pandas as pd\n",
        "import matplotlib.pyplot as plt\n",
        "\n",
        "from statsmodels.tsa.stattools import adfuller\n",
        "from statsmodels.graphics.tsaplots import plot_acf\n",
        "from statsmodels.graphics.tsaplots import plot_pacf\n",
        "from sklearn.metrics import mean_squared_error\n",
        "from statsmodels.tsa.arima_model import ARIMA\n",
        "from statsmodels.tsa.arima_model import ARIMAResults\n",
        "from math import sqrt\n",
        "from pandas import DataFrame\n",
        "from scipy.stats import boxcox\n",
        "import seaborn as sns\n",
        "import numpy as np\n",
        "\n",
        "## Setting Seaborn Styles\n",
        "sns.set(style=\"whitegrid\")\n",
        "sns.set_palette((sns.color_palette('tab10', 8)))\n",
        "dims = (11.7, 8.27)\n",
        "%matplotlib inline\n",
        "\n",
        "## Setting random seed\n",
        "np.random.seed(1000)"
      ]
    },
    {
      "cell_type": "code",
      "source": [
        "Zip97212 = pd.read_csv(\"https://raw.githubusercontent.com/mariang168/SU_MSADS/main/IST718/Zip97212.csv\").fillna(0)\n",
        "#Zip94804 = pd.read_csv(\"Zip94804.csv\").fillna(0)\n",
        "#Zip98340 = pd.read_csv(\"Zip98340.csv\").fillna(0)"
      ],
      "metadata": {
        "id": "qXZWn3M1th_F"
      },
      "execution_count": 44,
      "outputs": []
    },
    {
      "cell_type": "code",
      "source": [
        "#Zip97212\n",
        "O_t = Zip97212.transpose()\n",
        "O_t = pd.DataFrame(O_t)\n",
        "O = O_t.drop(['RegionID', 'SizeRank', 'RegionName', 'RegionType', 'StateName', 'State', 'City', 'Metro', 'CountyName'])\n",
        "#O = O.sort_index()\n",
        "O.index.name = \"Date\"\n",
        "O.index = pd.to_datetime(O.index)\n",
        "O['Price']= O.mean(axis=1)\n",
        "O"
      ],
      "metadata": {
        "colab": {
          "base_uri": "https://localhost:8080/",
          "height": 455
        },
        "id": "JS-lCgunuqRl",
        "outputId": "b4cb9a46-fd39-43ea-95a4-e3c9949d0d9f"
      },
      "execution_count": 47,
      "outputs": [
        {
          "output_type": "execute_result",
          "data": {
            "text/plain": [
              "                      0        Price\n",
              "Date                                \n",
              "1996-01-31  174011.3922  174011.3922\n",
              "1996-02-29  175970.5486  175970.5486\n",
              "1996-03-31  176822.8795  176822.8795\n",
              "1996-04-30  178408.7697  178408.7697\n",
              "1996-05-31  179482.0218  179482.0218\n",
              "...                 ...          ...\n",
              "2022-02-28  860029.8453  860029.8453\n",
              "2022-03-31  891040.3973  891040.3973\n",
              "2022-04-30  913318.0658  913318.0658\n",
              "2022-05-31  920066.4964  920066.4964\n",
              "2022-06-30  905069.3457  905069.3457\n",
              "\n",
              "[318 rows x 2 columns]"
            ],
            "text/html": [
              "\n",
              "  <div id=\"df-bbfd3325-1823-470b-8764-868e220915f3\">\n",
              "    <div class=\"colab-df-container\">\n",
              "      <div>\n",
              "<style scoped>\n",
              "    .dataframe tbody tr th:only-of-type {\n",
              "        vertical-align: middle;\n",
              "    }\n",
              "\n",
              "    .dataframe tbody tr th {\n",
              "        vertical-align: top;\n",
              "    }\n",
              "\n",
              "    .dataframe thead th {\n",
              "        text-align: right;\n",
              "    }\n",
              "</style>\n",
              "<table border=\"1\" class=\"dataframe\">\n",
              "  <thead>\n",
              "    <tr style=\"text-align: right;\">\n",
              "      <th></th>\n",
              "      <th>0</th>\n",
              "      <th>Price</th>\n",
              "    </tr>\n",
              "    <tr>\n",
              "      <th>Date</th>\n",
              "      <th></th>\n",
              "      <th></th>\n",
              "    </tr>\n",
              "  </thead>\n",
              "  <tbody>\n",
              "    <tr>\n",
              "      <th>1996-01-31</th>\n",
              "      <td>174011.3922</td>\n",
              "      <td>174011.3922</td>\n",
              "    </tr>\n",
              "    <tr>\n",
              "      <th>1996-02-29</th>\n",
              "      <td>175970.5486</td>\n",
              "      <td>175970.5486</td>\n",
              "    </tr>\n",
              "    <tr>\n",
              "      <th>1996-03-31</th>\n",
              "      <td>176822.8795</td>\n",
              "      <td>176822.8795</td>\n",
              "    </tr>\n",
              "    <tr>\n",
              "      <th>1996-04-30</th>\n",
              "      <td>178408.7697</td>\n",
              "      <td>178408.7697</td>\n",
              "    </tr>\n",
              "    <tr>\n",
              "      <th>1996-05-31</th>\n",
              "      <td>179482.0218</td>\n",
              "      <td>179482.0218</td>\n",
              "    </tr>\n",
              "    <tr>\n",
              "      <th>...</th>\n",
              "      <td>...</td>\n",
              "      <td>...</td>\n",
              "    </tr>\n",
              "    <tr>\n",
              "      <th>2022-02-28</th>\n",
              "      <td>860029.8453</td>\n",
              "      <td>860029.8453</td>\n",
              "    </tr>\n",
              "    <tr>\n",
              "      <th>2022-03-31</th>\n",
              "      <td>891040.3973</td>\n",
              "      <td>891040.3973</td>\n",
              "    </tr>\n",
              "    <tr>\n",
              "      <th>2022-04-30</th>\n",
              "      <td>913318.0658</td>\n",
              "      <td>913318.0658</td>\n",
              "    </tr>\n",
              "    <tr>\n",
              "      <th>2022-05-31</th>\n",
              "      <td>920066.4964</td>\n",
              "      <td>920066.4964</td>\n",
              "    </tr>\n",
              "    <tr>\n",
              "      <th>2022-06-30</th>\n",
              "      <td>905069.3457</td>\n",
              "      <td>905069.3457</td>\n",
              "    </tr>\n",
              "  </tbody>\n",
              "</table>\n",
              "<p>318 rows × 2 columns</p>\n",
              "</div>\n",
              "      <button class=\"colab-df-convert\" onclick=\"convertToInteractive('df-bbfd3325-1823-470b-8764-868e220915f3')\"\n",
              "              title=\"Convert this dataframe to an interactive table.\"\n",
              "              style=\"display:none;\">\n",
              "        \n",
              "  <svg xmlns=\"http://www.w3.org/2000/svg\" height=\"24px\"viewBox=\"0 0 24 24\"\n",
              "       width=\"24px\">\n",
              "    <path d=\"M0 0h24v24H0V0z\" fill=\"none\"/>\n",
              "    <path d=\"M18.56 5.44l.94 2.06.94-2.06 2.06-.94-2.06-.94-.94-2.06-.94 2.06-2.06.94zm-11 1L8.5 8.5l.94-2.06 2.06-.94-2.06-.94L8.5 2.5l-.94 2.06-2.06.94zm10 10l.94 2.06.94-2.06 2.06-.94-2.06-.94-.94-2.06-.94 2.06-2.06.94z\"/><path d=\"M17.41 7.96l-1.37-1.37c-.4-.4-.92-.59-1.43-.59-.52 0-1.04.2-1.43.59L10.3 9.45l-7.72 7.72c-.78.78-.78 2.05 0 2.83L4 21.41c.39.39.9.59 1.41.59.51 0 1.02-.2 1.41-.59l7.78-7.78 2.81-2.81c.8-.78.8-2.07 0-2.86zM5.41 20L4 18.59l7.72-7.72 1.47 1.35L5.41 20z\"/>\n",
              "  </svg>\n",
              "      </button>\n",
              "      \n",
              "  <style>\n",
              "    .colab-df-container {\n",
              "      display:flex;\n",
              "      flex-wrap:wrap;\n",
              "      gap: 12px;\n",
              "    }\n",
              "\n",
              "    .colab-df-convert {\n",
              "      background-color: #E8F0FE;\n",
              "      border: none;\n",
              "      border-radius: 50%;\n",
              "      cursor: pointer;\n",
              "      display: none;\n",
              "      fill: #1967D2;\n",
              "      height: 32px;\n",
              "      padding: 0 0 0 0;\n",
              "      width: 32px;\n",
              "    }\n",
              "\n",
              "    .colab-df-convert:hover {\n",
              "      background-color: #E2EBFA;\n",
              "      box-shadow: 0px 1px 2px rgba(60, 64, 67, 0.3), 0px 1px 3px 1px rgba(60, 64, 67, 0.15);\n",
              "      fill: #174EA6;\n",
              "    }\n",
              "\n",
              "    [theme=dark] .colab-df-convert {\n",
              "      background-color: #3B4455;\n",
              "      fill: #D2E3FC;\n",
              "    }\n",
              "\n",
              "    [theme=dark] .colab-df-convert:hover {\n",
              "      background-color: #434B5C;\n",
              "      box-shadow: 0px 1px 3px 1px rgba(0, 0, 0, 0.15);\n",
              "      filter: drop-shadow(0px 1px 2px rgba(0, 0, 0, 0.3));\n",
              "      fill: #FFFFFF;\n",
              "    }\n",
              "  </style>\n",
              "\n",
              "      <script>\n",
              "        const buttonEl =\n",
              "          document.querySelector('#df-bbfd3325-1823-470b-8764-868e220915f3 button.colab-df-convert');\n",
              "        buttonEl.style.display =\n",
              "          google.colab.kernel.accessAllowed ? 'block' : 'none';\n",
              "\n",
              "        async function convertToInteractive(key) {\n",
              "          const element = document.querySelector('#df-bbfd3325-1823-470b-8764-868e220915f3');\n",
              "          const dataTable =\n",
              "            await google.colab.kernel.invokeFunction('convertToInteractive',\n",
              "                                                     [key], {});\n",
              "          if (!dataTable) return;\n",
              "\n",
              "          const docLinkHtml = 'Like what you see? Visit the ' +\n",
              "            '<a target=\"_blank\" href=https://colab.research.google.com/notebooks/data_table.ipynb>data table notebook</a>'\n",
              "            + ' to learn more about interactive tables.';\n",
              "          element.innerHTML = '';\n",
              "          dataTable['output_type'] = 'display_data';\n",
              "          await google.colab.output.renderOutput(dataTable, element);\n",
              "          const docLink = document.createElement('div');\n",
              "          docLink.innerHTML = docLinkHtml;\n",
              "          element.appendChild(docLink);\n",
              "        }\n",
              "      </script>\n",
              "    </div>\n",
              "  </div>\n",
              "  "
            ]
          },
          "metadata": {},
          "execution_count": 47
        }
      ]
    },
    {
      "cell_type": "code",
      "source": [
        "# EXPLORE - IS OUR TIME SERIES STATIONARY OR NOT?\n",
        "\n",
        "result = adfuller(O['Price'], autolag='AIC')\n",
        "\n",
        "print('ADF Statistic: %f' % result[0])\n",
        "print('p-value: %f' % result[1])\n",
        "print('Critical Values:')\n",
        "for key, value in result[4].items():\n",
        "\tprint('\\t%s: %.3f' % (key, value))"
      ],
      "metadata": {
        "colab": {
          "base_uri": "https://localhost:8080/"
        },
        "id": "qLQ2O14CYTEO",
        "outputId": "2277fb77-7aaa-450d-dc1b-27281d553d4b"
      },
      "execution_count": 46,
      "outputs": [
        {
          "output_type": "stream",
          "name": "stdout",
          "text": [
            "ADF Statistic: 0.159279\n",
            "p-value: 0.969883\n",
            "Critical Values:\n",
            "\t1%: -3.452\n",
            "\t5%: -2.871\n",
            "\t10%: -2.572\n"
          ]
        }
      ]
    },
    {
      "cell_type": "code",
      "source": [
        "# SCRUB - OUR TIME SERIES IS NOT STATIONARY - WE NEED TO TAKE THE DIFFERENCE\n",
        " \n",
        "# create a differenced series\n",
        "def difference(dataset, interval=1):\n",
        "\tdiff = list()\n",
        "\tfor i in range(interval, len(dataset)):\n",
        "\t\tvalue = dataset[i] - dataset[i - interval]\n",
        "\t\tdiff.append(value)\n",
        "\treturn pd.Series(diff)\n",
        "\n",
        "X = O['Price']\n",
        "X = X.astype('float32')\n",
        "# difference data\n",
        "months_in_year = 12\n",
        "stationary = difference(X, months_in_year)\n",
        "stationary.index = O.index[months_in_year:]\n",
        "# check if stationary\n",
        "result = adfuller(stationary)\n",
        "print('ADF Statistic: %f' % result[0])\n",
        "print('p-value: %f' % result[1])\n",
        "print('Critical Values:')\n",
        "for key, value in result[4].items():\n",
        "\tprint('\\t%s: %.3f' % (key, value))\n",
        "\n",
        "# plot\n",
        "stationary.plot()"
      ],
      "metadata": {
        "colab": {
          "base_uri": "https://localhost:8080/",
          "height": 407
        },
        "id": "f7NsYja4Yb1x",
        "outputId": "866d3d35-b6d7-46cc-b878-55fd17361b44"
      },
      "execution_count": 5,
      "outputs": [
        {
          "output_type": "stream",
          "name": "stdout",
          "text": [
            "ADF Statistic: -2.818251\n",
            "p-value: 0.055714\n",
            "Critical Values:\n",
            "\t1%: -3.453\n",
            "\t5%: -2.872\n",
            "\t10%: -2.572\n"
          ]
        },
        {
          "output_type": "execute_result",
          "data": {
            "text/plain": [
              "<matplotlib.axes._subplots.AxesSubplot at 0x7f890b69bf50>"
            ]
          },
          "metadata": {},
          "execution_count": 5
        },
        {
          "output_type": "display_data",
          "data": {
            "text/plain": [
              "<Figure size 432x288 with 1 Axes>"
            ],
            "image/png": "[encoded data removed]"
          },
          "metadata": {
            "needs_background": "light"
          }
        }
      ]
    },
    {
      "cell_type": "code",
      "source": [
        "# SCRUB - SOME CODE TO INVERT DIFFERENCE VALUE\n",
        "\n",
        "def inverse_difference(history, yhat, interval=1):\n",
        "\treturn yhat + history[-interval]"
      ],
      "metadata": {
        "id": "DvEjSDCCYcmJ"
      },
      "execution_count": 6,
      "outputs": []
    },
    {
      "cell_type": "code",
      "source": [
        "# USING STATIONARY TIME SERIES LOOK AT ACF\n",
        "\n",
        "series = stationary\n",
        "\n",
        "plot_acf(series)\n",
        "plot_pacf(series)"
      ],
      "metadata": {
        "colab": {
          "base_uri": "https://localhost:8080/",
          "height": 818
        },
        "id": "duPpKjKzYcrR",
        "outputId": "67d11b1b-a25a-455d-be51-1a96637a6b6b"
      },
      "execution_count": 7,
      "outputs": [
        {
          "output_type": "execute_result",
          "data": {
            "text/plain": [
              "<Figure size 432x288 with 1 Axes>"
            ],
            "image/png": "[encoded data removed]"
          },
          "metadata": {},
          "execution_count": 7
        },
        {
          "output_type": "display_data",
          "data": {
            "text/plain": [
              "<Figure size 432x288 with 1 Axes>"
            ],
            "image/png": "[encoded data removed]"
          },
          "metadata": {
            "needs_background": "light"
          }
        },
        {
          "output_type": "display_data",
          "data": {
            "text/plain": [
              "<Figure size 432x288 with 1 Axes>"
            ],
            "image/png": "[encoded data removed]"
          },
          "metadata": {
            "needs_background": "light"
          }
        }
      ]
    },
    {
      "cell_type": "code",
      "source": [
        "# USING STATIONARY TIME SERIES LOOK FOR PACF\n",
        "\n",
        "plot_pacf(series)"
      ],
      "metadata": {
        "colab": {
          "base_uri": "https://localhost:8080/",
          "height": 551
        },
        "id": "xoCzPjaeYcvn",
        "outputId": "60e47b74-0d89-444f-ec43-899f8f88a8a8"
      },
      "execution_count": 8,
      "outputs": [
        {
          "output_type": "execute_result",
          "data": {
            "text/plain": [
              "<Figure size 432x288 with 1 Axes>"
            ],
            "image/png": "[encoded data removed]"
          },
          "metadata": {},
          "execution_count": 8
        },
        {
          "output_type": "display_data",
          "data": {
            "text/plain": [
              "<Figure size 432x288 with 1 Axes>"
            ],
            "image/png": "[encoded data removed]"
          },
          "metadata": {
            "needs_background": "light"
          }
        }
      ]
    },
    {
      "cell_type": "code",
      "source": [
        "# BUILD THE MODEL - USING ORIGINAL SERIES1 DATA\n",
        "\n",
        "# prepare data\n",
        "#X = O['Price']\n",
        "X = O['Price']\n",
        "X = X.astype('float32')\n",
        "train_size = int(len(X) * 0.50)\n",
        "train, test = X[0:train_size], X[train_size:]\n",
        "# walk-forward validation\n",
        "history = [x for x in train]\n",
        "predictions = list()\n",
        "for i in range(len(test)):\n",
        "\t# difference data\n",
        "\tmonths_in_year = 12\n",
        "\tdiff = difference(history, months_in_year)\n",
        "\t# predict\n",
        "\tmodel = ARIMA(diff, order=(2,1,1))\n",
        "\tmodel_fit = model.fit(trend='nc', disp=0)\n",
        "\tyhat = model_fit.forecast()[0]\n",
        "\tyhat = inverse_difference(history, yhat, months_in_year)\n",
        "\tpredictions.append(yhat)\n",
        "\t# observation\n",
        "\tobs = test[i]\n",
        "\thistory.append(obs)\n",
        "\tprint('>Predicted=%.3f, Expected=%3.f' % (yhat, obs))\n",
        "# report performance\n",
        "mse = mean_squared_error(test, predictions)\n",
        "rmse = sqrt(mse)\n",
        "print('RMSE: %.3f' % rmse)"
      ],
      "metadata": {
        "colab": {
          "base_uri": "https://localhost:8080/"
        },
        "id": "_b6W35ZfYc3Y",
        "outputId": "a4fe9ff1-b2b9-4eab-b733-a8738d4006fb"
      },
      "execution_count": 9,
      "outputs": [
        {
          "output_type": "stream",
          "name": "stdout",
          "text": [
            ">Predicted=472545.364, Expected=490229\n",
            ">Predicted=485555.708, Expected=490580\n",
            ">Predicted=497925.880, Expected=484935\n",
            ">Predicted=479797.873, Expected=483301\n",
            ">Predicted=481279.757, Expected=486232\n",
            ">Predicted=482235.193, Expected=486660\n",
            ">Predicted=477614.980, Expected=488849\n",
            ">Predicted=492541.969, Expected=477006\n",
            ">Predicted=470808.458, Expected=474037\n",
            ">Predicted=468906.278, Expected=470588\n",
            ">Predicted=451839.426, Expected=483556\n",
            ">Predicted=480119.266, Expected=487508\n",
            ">Predicted=490783.917, Expected=480884\n",
            ">Predicted=479348.140, Expected=481030\n",
            ">Predicted=476334.923, Expected=478709\n",
            ">Predicted=477387.002, Expected=475763\n",
            ">Predicted=478258.593, Expected=468552\n",
            ">Predicted=468270.323, Expected=460488\n",
            ">Predicted=462919.400, Expected=462155\n",
            ">Predicted=451158.709, Expected=456046\n",
            ">Predicted=453723.541, Expected=456593\n",
            ">Predicted=452864.227, Expected=451571\n",
            ">Predicted=463965.507, Expected=442729\n",
            ">Predicted=444533.205, Expected=439583\n",
            ">Predicted=434843.386, Expected=443584\n",
            ">Predicted=446268.788, Expected=448098\n",
            ">Predicted=444723.262, Expected=454105\n",
            ">Predicted=451437.192, Expected=459447\n",
            ">Predicted=452140.715, Expected=454239\n",
            ">Predicted=445236.871, Expected=454802\n",
            ">Predicted=457353.720, Expected=451154\n",
            ">Predicted=443250.297, Expected=447068\n",
            ">Predicted=448437.783, Expected=438530\n",
            ">Predicted=432214.162, Expected=441366\n",
            ">Predicted=434362.377, Expected=446408\n",
            ">Predicted=444113.211, Expected=465190\n",
            ">Predicted=471176.090, Expected=469195\n",
            ">Predicted=471039.579, Expected=475710\n",
            ">Predicted=481744.136, Expected=479611\n",
            ">Predicted=484384.580, Expected=477695\n",
            ">Predicted=471515.476, Expected=482609\n",
            ">Predicted=485433.311, Expected=482970\n",
            ">Predicted=478388.856, Expected=486754\n",
            ">Predicted=483624.463, Expected=484042\n",
            ">Predicted=475018.347, Expected=494188\n",
            ">Predicted=499540.679, Expected=495882\n",
            ">Predicted=499387.128, Expected=507730\n",
            ">Predicted=527312.308, Expected=505501\n",
            ">Predicted=506653.544, Expected=519154\n",
            ">Predicted=527328.709, Expected=527884\n",
            ">Predicted=531735.385, Expected=529880\n",
            ">Predicted=527645.732, Expected=530585\n",
            ">Predicted=535768.979, Expected=530786\n",
            ">Predicted=530655.927, Expected=536311\n",
            ">Predicted=540681.753, Expected=532152\n",
            ">Predicted=528692.865, Expected=538623\n",
            ">Predicted=549597.633, Expected=540530\n",
            ">Predicted=541569.683, Expected=526835\n",
            ">Predicted=537882.461, Expected=541095\n",
            ">Predicted=539714.541, Expected=542418\n",
            ">Predicted=556365.635, Expected=553397\n",
            ">Predicted=561809.441, Expected=553635\n",
            ">Predicted=555168.651, Expected=558725\n",
            ">Predicted=560057.696, Expected=562342\n",
            ">Predicted=562666.160, Expected=566754\n",
            ">Predicted=572392.126, Expected=568082\n",
            ">Predicted=563407.002, Expected=566221\n",
            ">Predicted=572992.123, Expected=567181\n",
            ">Predicted=568679.737, Expected=575501\n",
            ">Predicted=562406.720, Expected=586230\n",
            ">Predicted=601942.585, Expected=585803\n",
            ">Predicted=584933.079, Expected=594262\n",
            ">Predicted=605804.480, Expected=600312\n",
            ">Predicted=600267.083, Expected=614581\n",
            ">Predicted=619929.533, Expected=626156\n",
            ">Predicted=629432.191, Expected=627374\n",
            ">Predicted=631390.536, Expected=639207\n",
            ">Predicted=640656.076, Expected=646598\n",
            ">Predicted=644625.081, Expected=652980\n",
            ">Predicted=653940.429, Expected=649585\n",
            ">Predicted=657533.632, Expected=663036\n",
            ">Predicted=673913.697, Expected=652356\n",
            ">Predicted=651666.228, Expected=654661\n",
            ">Predicted=663500.182, Expected=669975\n",
            ">Predicted=676113.071, Expected=686195\n",
            ">Predicted=700372.768, Expected=695790\n",
            ">Predicted=706943.737, Expected=696737\n",
            ">Predicted=697918.270, Expected=705995\n",
            ">Predicted=718340.402, Expected=700198\n",
            ">Predicted=707612.738, Expected=696800\n",
            ">Predicted=703650.855, Expected=696148\n",
            ">Predicted=693004.404, Expected=687146\n",
            ">Predicted=700678.661, Expected=703084\n",
            ">Predicted=692591.114, Expected=705354\n",
            ">Predicted=707882.252, Expected=710738\n",
            ">Predicted=725774.773, Expected=718531\n",
            ">Predicted=734392.598, Expected=716841\n",
            ">Predicted=726138.774, Expected=705637\n",
            ">Predicted=706033.661, Expected=710438\n",
            ">Predicted=720953.618, Expected=715309\n",
            ">Predicted=709420.274, Expected=716589\n",
            ">Predicted=713714.025, Expected=713548\n",
            ">Predicted=712755.188, Expected=710420\n",
            ">Predicted=701236.367, Expected=712729\n",
            ">Predicted=729229.553, Expected=712054\n",
            ">Predicted=713522.567, Expected=710530\n",
            ">Predicted=716177.432, Expected=723123\n",
            ">Predicted=731435.415, Expected=719720\n",
            ">Predicted=717596.297, Expected=720894\n",
            ">Predicted=710037.817, Expected=722101\n",
            ">Predicted=727226.595, Expected=717474\n",
            ">Predicted=721730.152, Expected=708857\n",
            ">Predicted=710063.960, Expected=711454\n",
            ">Predicted=709166.075, Expected=703935\n",
            ">Predicted=700825.334, Expected=702612\n",
            ">Predicted=705191.805, Expected=704442\n",
            ">Predicted=703743.839, Expected=714782\n",
            ">Predicted=713529.978, Expected=715247\n",
            ">Predicted=727427.831, Expected=714615\n",
            ">Predicted=710649.485, Expected=717505\n",
            ">Predicted=719360.519, Expected=719751\n",
            ">Predicted=720829.069, Expected=715407\n",
            ">Predicted=710593.631, Expected=710976\n",
            ">Predicted=702615.672, Expected=710746\n",
            ">Predicted=713542.027, Expected=705358\n",
            ">Predicted=697321.933, Expected=702652\n",
            ">Predicted=701660.836, Expected=709128\n",
            ">Predicted=710873.250, Expected=709621\n",
            ">Predicted=719490.313, Expected=704150\n",
            ">Predicted=704371.716, Expected=703948\n",
            ">Predicted=704260.366, Expected=716117\n",
            ">Predicted=719485.405, Expected=719833\n",
            ">Predicted=721238.516, Expected=718321\n",
            ">Predicted=713657.524, Expected=724110\n",
            ">Predicted=719992.580, Expected=724368\n",
            ">Predicted=723498.231, Expected=734885\n",
            ">Predicted=729209.587, Expected=738551\n",
            ">Predicted=735275.140, Expected=757312\n",
            ">Predicted=764002.572, Expected=761656\n",
            ">Predicted=760921.757, Expected=770990\n",
            ">Predicted=765714.513, Expected=770399\n",
            ">Predicted=770042.482, Expected=774298\n",
            ">Predicted=786402.435, Expected=788249\n",
            ">Predicted=791867.020, Expected=799944\n",
            ">Predicted=798640.898, Expected=807143\n",
            ">Predicted=813039.662, Expected=822262\n",
            ">Predicted=822697.652, Expected=829744\n",
            ">Predicted=840396.461, Expected=836773\n",
            ">Predicted=840084.756, Expected=838744\n",
            ">Predicted=857480.397, Expected=832420\n",
            ">Predicted=835567.733, Expected=821944\n",
            ">Predicted=830739.608, Expected=827901\n",
            ">Predicted=827366.201, Expected=831060\n",
            ">Predicted=835361.997, Expected=843412\n",
            ">Predicted=857937.229, Expected=860030\n",
            ">Predicted=871725.222, Expected=891040\n",
            ">Predicted=899643.333, Expected=913318\n",
            ">Predicted=929581.027, Expected=920066\n",
            ">Predicted=926447.604, Expected=905069\n",
            "RMSE: 9778.018\n"
          ]
        }
      ]
    },
    {
      "cell_type": "code",
      "source": [
        "#Zip97212 ARIMA()\n",
        "#@title\n",
        "# SIMILAR BLOCK OF CODE - THIS ONE SAVES RESIDUALS FOR PLOTTING\n",
        "\n",
        "# create a differenced series\n",
        "def difference(dataset, interval=1):\n",
        "\tdiff = list()\n",
        "\tfor i in range(interval, len(dataset)):\n",
        "\t\tvalue = dataset[i] - dataset[i - interval]\n",
        "\t\tdiff.append(value)\n",
        "\treturn diff\n",
        " \n",
        "# invert differenced value\n",
        "def inverse_difference(history, yhat, interval=1):\n",
        "\treturn yhat + history[-interval]\n",
        " \n",
        "# load data\n",
        "series = O['Price']\n",
        "# prepare data\n",
        "X = series.values\n",
        "X = X.astype('float32')\n",
        "train_size = int(len(X) * 0.50)\n",
        "train, test = X[0:train_size], X[train_size:]\n",
        "# walk-forward validation\n",
        "history = [x for x in train]\n",
        "predictions = list()\n",
        "for i in range(len(test)):\n",
        "\t# difference data\n",
        "\tmonths_in_year = 12\n",
        "\tdiff = difference(history, months_in_year)\n",
        "\t# predict\n",
        "\tmodel = ARIMA(diff, order=(1,2,1))\n",
        "\tmodel_fit = model.fit(trend='nc', disp=0)\n",
        "\tyhat = model_fit.forecast()[0]\n",
        "\tyhat = inverse_difference(history, yhat, months_in_year)\n",
        "\tpredictions.append(yhat)\n",
        "\t# observation\n",
        "\tobs = test[i]\n",
        "\thistory.append(obs)\n",
        "# errors\n",
        "residuals = [test[i]-predictions[i] for i in range(len(test))]\n",
        "residuals = DataFrame(residuals)\n",
        "print(residuals.describe())\n",
        "# report performance\n",
        "mse = mean_squared_error(test, predictions)\n",
        "rmse = sqrt(mse)\n",
        "print('RMSE: %.3f' % rmse)\n",
        "# plot\n",
        "residuals.hist(ax=plt.gca())\n",
        "plt.show()\n",
        "\n",
        "residuals.plot(kind='kde', ax=plt.gca())\n",
        "plt.show()"
      ],
      "metadata": {
        "colab": {
          "base_uri": "https://localhost:8080/",
          "height": 858
        },
        "id": "w7kg8thpY7YF",
        "outputId": "3c330ba1-db87-4043-b572-19fde58c72ed"
      },
      "execution_count": 49,
      "outputs": [
        {
          "output_type": "stream",
          "name": "stderr",
          "text": [
            "/usr/local/lib/python3.7/dist-packages/statsmodels/tsa/tsatools.py:668: RuntimeWarning: overflow encountered in exp\n",
            "  newparams = ((1-np.exp(-params))/(1+np.exp(-params))).copy()\n",
            "/usr/local/lib/python3.7/dist-packages/statsmodels/tsa/tsatools.py:668: RuntimeWarning: invalid value encountered in true_divide\n",
            "  newparams = ((1-np.exp(-params))/(1+np.exp(-params))).copy()\n",
            "/usr/local/lib/python3.7/dist-packages/statsmodels/tsa/tsatools.py:669: RuntimeWarning: overflow encountered in exp\n",
            "  tmp = ((1-np.exp(-params))/(1+np.exp(-params))).copy()\n",
            "/usr/local/lib/python3.7/dist-packages/statsmodels/tsa/tsatools.py:669: RuntimeWarning: invalid value encountered in true_divide\n",
            "  tmp = ((1-np.exp(-params))/(1+np.exp(-params))).copy()\n"
          ]
        },
        {
          "output_type": "stream",
          "name": "stdout",
          "text": [
            "                  0\n",
            "count    159.000000\n",
            "mean     733.697414\n",
            "std     9952.311833\n",
            "min   -25266.730693\n",
            "25%    -5379.474358\n",
            "50%     2499.964951\n",
            "75%     7405.940558\n",
            "max    32881.327779\n",
            "RMSE: 9948.059\n"
          ]
        },
        {
          "output_type": "display_data",
          "data": {
            "text/plain": [
              "<Figure size 432x288 with 1 Axes>"
            ],
            "image/png": "[encoded data removed]"
          },
          "metadata": {
            "needs_background": "light"
          }
        },
        {
          "output_type": "display_data",
          "data": {
            "text/plain": [
              "<Figure size 432x288 with 1 Axes>"
            ],
            "image/png": "[encoded data removed]"
          },
          "metadata": {
            "needs_background": "light"
          }
        }
      ]
    },
    {
      "cell_type": "code",
      "source": [
        "# MODEL - INTERPRET \n",
        "# RECREATE ANALYSIS WITH MEAN RESIDUAL ADDED TO EACH PREDICTION\n",
        "# create a differenced series\n",
        "def difference(dataset, interval=1):\n",
        "\tdiff = list()\n",
        "\tfor i in range(interval, len(dataset)):\n",
        "\t\tvalue = dataset[i] - dataset[i - interval]\n",
        "\t\tdiff.append(value)\n",
        "\treturn diff\n",
        " \n",
        "# invert differenced value\n",
        "def inverse_difference(history, yhat, interval=1):\n",
        "\treturn yhat + history[-interval]\n",
        " \n",
        "# load data\n",
        "series = O['Price']\n",
        "# prepare data\n",
        "X = series.values\n",
        "X = X.astype('float32')\n",
        "train_size = int(len(X) * 0.50)\n",
        "train, test = X[0:train_size], X[train_size:]\n",
        "# walk-forward validation\n",
        "history = [x for x in train]\n",
        "predictions = list()\n",
        "bias = -120.713087\n",
        "for i in range(len(test)):\n",
        "\t# difference data\n",
        "\tmonths_in_year = 12\n",
        "\tdiff = difference(history, months_in_year)\n",
        "\t# predict\n",
        "\tmodel = ARIMA(diff, order=(1,2,1))\n",
        "\tmodel_fit = model.fit(trend='nc', disp=0)\n",
        "\tyhat = model_fit.forecast()[0]\n",
        "\tyhat = bias + inverse_difference(history, yhat, months_in_year)\n",
        "\tpredictions.append(yhat)\n",
        "\t# observation\n",
        "\tobs = test[i]\n",
        "\thistory.append(obs)\n",
        "# errors\n",
        "residuals = [test[i]-predictions[i] for i in range(len(test))]\n",
        "residuals = DataFrame(residuals)\n",
        "print(residuals.describe())\n",
        "# report performance\n",
        "mse = mean_squared_error(test, predictions)\n",
        "rmse = sqrt(mse)\n",
        "print('RMSE: %.3f' % rmse)\n",
        "# plot\n",
        "residuals.hist(ax=plt.gca())\n",
        "plt.show()\n",
        "\n",
        "residuals.plot(kind='kde', ax=plt.gca())\n",
        "plt.show()"
      ],
      "metadata": {
        "colab": {
          "base_uri": "https://localhost:8080/",
          "height": 858
        },
        "id": "sSzbSg5KY7b8",
        "outputId": "83078399-1b9e-40a4-e5bb-2ef17d184fe4"
      },
      "execution_count": 50,
      "outputs": [
        {
          "output_type": "stream",
          "name": "stderr",
          "text": [
            "/usr/local/lib/python3.7/dist-packages/statsmodels/tsa/tsatools.py:668: RuntimeWarning: overflow encountered in exp\n",
            "  newparams = ((1-np.exp(-params))/(1+np.exp(-params))).copy()\n",
            "/usr/local/lib/python3.7/dist-packages/statsmodels/tsa/tsatools.py:668: RuntimeWarning: invalid value encountered in true_divide\n",
            "  newparams = ((1-np.exp(-params))/(1+np.exp(-params))).copy()\n",
            "/usr/local/lib/python3.7/dist-packages/statsmodels/tsa/tsatools.py:669: RuntimeWarning: overflow encountered in exp\n",
            "  tmp = ((1-np.exp(-params))/(1+np.exp(-params))).copy()\n",
            "/usr/local/lib/python3.7/dist-packages/statsmodels/tsa/tsatools.py:669: RuntimeWarning: invalid value encountered in true_divide\n",
            "  tmp = ((1-np.exp(-params))/(1+np.exp(-params))).copy()\n"
          ]
        },
        {
          "output_type": "stream",
          "name": "stdout",
          "text": [
            "                  0\n",
            "count    159.000000\n",
            "mean     854.410501\n",
            "std     9952.311833\n",
            "min   -25146.017606\n",
            "25%    -5258.761271\n",
            "50%     2620.678038\n",
            "75%     7526.653645\n",
            "max    33002.040866\n",
            "RMSE: 9957.690\n"
          ]
        },
        {
          "output_type": "display_data",
          "data": {
            "text/plain": [
              "<Figure size 432x288 with 1 Axes>"
            ],
            "image/png": "[encoded data removed]"
          },
          "metadata": {
            "needs_background": "light"
          }
        },
        {
          "output_type": "display_data",
          "data": {
            "text/plain": [
              "<Figure size 432x288 with 1 Axes>"
            ],
            "image/png": "[encoded data removed]"
          },
          "metadata": {
            "needs_background": "light"
          }
        }
      ]
    },
    {
      "cell_type": "code",
      "source": [
        "# INTERPRET -LOOK AT ACF AND PACF FOR RESIDUALS\n",
        "# Ideally all residuals are not significant and mean==0\n",
        "plot_acf(residuals, ax=plt.gca())\n",
        "plt.show()\n",
        "\n",
        "plot_pacf(residuals, ax=plt.gca())\n",
        "plt.show()"
      ],
      "metadata": {
        "colab": {
          "base_uri": "https://localhost:8080/",
          "height": 551
        },
        "id": "6I1dt_enY7fi",
        "outputId": "450d619a-21b1-4a14-81ec-8ba0cb4f7178"
      },
      "execution_count": 51,
      "outputs": [
        {
          "output_type": "display_data",
          "data": {
            "text/plain": [
              "<Figure size 432x288 with 1 Axes>"
            ],
            "image/png": "[encoded data removed]"
          },
          "metadata": {
            "needs_background": "light"
          }
        },
        {
          "output_type": "display_data",
          "data": {
            "text/plain": [
              "<Figure size 432x288 with 1 Axes>"
            ],
            "image/png": "[encoded data removed]"
          },
          "metadata": {
            "needs_background": "light"
          }
        }
      ]
    },
    {
      "cell_type": "code",
      "source": [
        "# MODEL - CODE FROM BROWNLEE FOR SAVING MODEL\n",
        "# NOTE:  This will save in your google drive UNLESS you specified a particular\n",
        "# working directory\n",
        "import numpy\n",
        "# monkey patch around bug in ARIMA class\n",
        "def __getnewargs__(self):\n",
        "\treturn ((self.endog),(self.k_lags, self.k_diff, self.k_ma))\n",
        "\n",
        "ARIMA.__getnewargs__ = __getnewargs__\n",
        "\n",
        "# create a differenced series\n",
        "def difference(dataset, interval=1):\n",
        "\tdiff = list()\n",
        "\tfor i in range(interval, len(dataset)):\n",
        "\t\tvalue = dataset[i] - dataset[i - interval]\n",
        "\t\tdiff.append(value)\n",
        "\treturn diff\n",
        "\n",
        "# prepare data\n",
        "X = O['Price']\n",
        "X = X.astype('float32')\n",
        "# difference data\n",
        "months_in_year = 12\n",
        "diff = difference(X, months_in_year)\n",
        "# fit model\n",
        "model = ARIMA(diff, order=(1,2,1))\n",
        "model_fit = model.fit(trend='nc', disp=0)\n",
        "# bias constant, could be calculated from in-sample mean residual - CHANGED TO ZERO\n",
        "bias = 0\n",
        "# save model\n",
        "model_fit.save('model.pkl')\n",
        "numpy.save('model_bias.npy', [bias])"
      ],
      "metadata": {
        "id": "yKVyQNXBY7iu"
      },
      "execution_count": 52,
      "outputs": []
    },
    {
      "cell_type": "code",
      "source": [
        "# MODEL\n",
        "# CODE FOR MAKING PREDICTION USING SAVED MODEL - LOOKING ONE STEP AHEAD\n",
        "\n",
        "def inverse_difference(history, yhat, interval=1):\n",
        "\treturn yhat + history[-interval]\n",
        "\n",
        "series = O['Price']\n",
        "months_in_year = 12\n",
        "model_fit = ARIMAResults.load('model.pkl')\n",
        "bias = numpy.load('model_bias.npy')\n",
        "yhat = float(model_fit.forecast()[0])\n",
        "yhat = bias + inverse_difference(series.values, yhat, months_in_year)\n",
        "print('Predicted: %.3f' % yhat)"
      ],
      "metadata": {
        "colab": {
          "base_uri": "https://localhost:8080/"
        },
        "id": "gaZ_CUykY7mR",
        "outputId": "0c7e4708-0400-4b4a-bcbd-44925a60192e"
      },
      "execution_count": 53,
      "outputs": [
        {
          "output_type": "stream",
          "name": "stdout",
          "text": [
            "Predicted: 910195.001\n"
          ]
        }
      ]
    },
    {
      "cell_type": "code",
      "source": [
        "#Pull Zip97212, Zip94804, Zip98340 file\n",
        "from google.colab import files\n",
        "uploaded = files.upload()"
      ],
      "metadata": {
        "colab": {
          "resources": {
            "http://localhost:8080/nbextensions/google.colab/files.js": {
              "data": "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",
              "ok": true,
              "headers": [
                [
                  "content-type",
                  "application/javascript"
                ]
              ],
              "status": 200,
              "status_text": ""
            }
          },
          "base_uri": "https://localhost:8080/",
          "height": 73
        },
        "id": "RgbbPl-S9T68",
        "outputId": "86abb71c-77dd-409b-e063-e42703e552a5"
      },
      "execution_count": 54,
      "outputs": [
        {
          "output_type": "display_data",
          "data": {
            "text/plain": [
              "<IPython.core.display.HTML object>"
            ],
            "text/html": [
              "\n",
              "     <input type=\"file\" id=\"files-db74e2cb-b4ce-41b8-8092-2458209dd693\" name=\"files[]\" multiple disabled\n",
              "        style=\"border:none\" />\n",
              "     <output id=\"result-db74e2cb-b4ce-41b8-8092-2458209dd693\">\n",
              "      Upload widget is only available when the cell has been executed in the\n",
              "      current browser session. Please rerun this cell to enable.\n",
              "      </output>\n",
              "      <script src=\"/nbextensions/google.colab/files.js\"></script> "
            ]
          },
          "metadata": {}
        },
        {
          "output_type": "stream",
          "name": "stdout",
          "text": [
            "Saving O.csv to O (1).csv\n"
          ]
        }
      ]
    },
    {
      "cell_type": "code",
      "source": [
        "# INTERPRET - CREATE TRAIN-TEST DATA\n",
        "# DATA IS monthly from 1996 to 2021\n",
        "# KEEP 2022 - 6 months - AS THE TEST DATA\n",
        "\n",
        "series1 = pd.read_csv('O.csv', header=0,\n",
        "                      index_col=\"Date\", parse_dates=[\"Date\"])\n",
        "#series = O\n",
        "split_point = len(series) - 6\n",
        "dataset, validation = series[0:split_point], series[split_point:]\n",
        "print('Dataset %d, Validation %d' % (len(dataset), len(validation)))\n",
        "\n",
        "# STORES TO LOCAL DRIVE\n",
        "dataset.to_csv('dataset.csv')\n",
        "validation.to_csv('validation.csv')"
      ],
      "metadata": {
        "colab": {
          "base_uri": "https://localhost:8080/"
        },
        "id": "6AG4I8L5Y7qf",
        "outputId": "2a496beb-e49d-4258-ff59-910915907e93"
      },
      "execution_count": 55,
      "outputs": [
        {
          "output_type": "stream",
          "name": "stdout",
          "text": [
            "Dataset 312, Validation 6\n"
          ]
        }
      ]
    },
    {
      "cell_type": "code",
      "source": [
        "# MODEL & INTERPRET - \n",
        "# CODE FOR MAKING PREDICTION USING SAVED MODEL - LOOKING MANY STEPS AHEAD\n",
        "# NEED VALIDATION FILE FROM ABOVE\n",
        "\n",
        "\n",
        "def difference(dataset, interval=1):\n",
        "\tdiff = list()\n",
        "\tfor i in range(interval, len(dataset)):\n",
        "\t\tvalue = dataset[i] - dataset[i - interval]\n",
        "\t\tdiff.append(value)\n",
        "\treturn diff\n",
        " \n",
        "# invert differenced value\n",
        "def inverse_difference(history, yhat, interval=1):\n",
        "\treturn yhat + history[-interval]\n",
        " \n",
        "# load and prepare datasets\n",
        "dataset = O['Price']\n",
        "X = dataset.values.astype('float32')\n",
        "history = [x for x in X]\n",
        "months_in_year = 12\n",
        "#validation = Series.from_csv('validation.csv', header=0)\n",
        "y = validation.values.astype('float32')\n",
        "# load model\n",
        "model_fit = ARIMAResults.load('model.pkl')\n",
        "bias = numpy.load('model_bias.npy')\n",
        "# make first prediction\n",
        "predictions = list()\n",
        "yhat = float(model_fit.forecast()[0])\n",
        "yhat = bias + inverse_difference(history, yhat, months_in_year)\n",
        "predictions.append(yhat)\n",
        "history.append(y[0])\n",
        "print('>Predicted=%.3f, Expected=%3.f' % (yhat, y[0]))\n",
        "# rolling forecasts\n",
        "for i in range(1, len(y)):\n",
        "\t# difference data\n",
        "\tmonths_in_year = 12\n",
        "\tdiff = difference(history, months_in_year)\n",
        "\t# predict\n",
        "\tmodel = ARIMA(diff, order=(1,2,1))\n",
        "\tmodel_fit = model.fit(trend='nc', disp=0)\n",
        "\tyhat = model_fit.forecast()[0]\n",
        "\tyhat = bias + inverse_difference(history, yhat, months_in_year)\n",
        "\tpredictions.append(yhat)\n",
        "\t# observation\n",
        "\tobs = y[i]\n",
        "\thistory.append(obs)\n",
        "\tprint('>Predicted=%.3f, Expected=%3.f' % (yhat, obs))\n",
        "# report performance\n",
        "mse = mean_squared_error(y, predictions)\n",
        "rmse = sqrt(mse)\n",
        "print('RMSE: %.3f' % rmse)\n",
        "fig, ax = plt.subplots(figsize = dims)\n",
        "plt.plot(y)\n",
        "plt.plot(predictions, color='red')\n",
        "plt.xlabel(\"Month\")\n",
        "plt.ylabel(\"Zip Code 97212 Predicted Home Price\")\n",
        "plt.title(\"2022 Projected Median Home Price 97212\")\n",
        "plt.show()"
      ],
      "metadata": {
        "colab": {
          "base_uri": "https://localhost:8080/",
          "height": 655
        },
        "id": "tF0VtOjzY7u6",
        "outputId": "4ed1336d-bb86-4e02-f57d-a892e7a73223"
      },
      "execution_count": 56,
      "outputs": [
        {
          "output_type": "stream",
          "name": "stdout",
          "text": [
            ">Predicted=910195.006, Expected=843412\n",
            ">Predicted=833396.429, Expected=860030\n",
            ">Predicted=855078.152, Expected=891040\n",
            ">Predicted=885063.671, Expected=913318\n",
            ">Predicted=924715.037, Expected=920066\n",
            ">Predicted=923559.828, Expected=905069\n",
            "RMSE: 35647.327\n"
          ]
        },
        {
          "output_type": "display_data",
          "data": {
            "text/plain": [
              "<Figure size 842.4x595.44 with 1 Axes>"
            ],
            "image/png": "[encoded data removed]"
          },
          "metadata": {
            "needs_background": "light"
          }
        }
      ]
    },
    {
      "cell_type": "code",
      "source": [
        "# timeseries data\n",
        "ts_start = Zip97212.columns.get_loc('1996-01-31') + 1\n",
        "ts_end = Zip97212.columns.get_loc('2022-06-30')\n",
        "date_columns = Zip97212.iloc[:, ts_start:ts_end].columns.tolist()\n",
        "\n",
        "# ensure integer timeseries\n",
        "Zip97212[date_columns] = Zip97212[date_columns].astype(int)"
      ],
      "metadata": {
        "id": "Kpab6SwOD7Io"
      },
      "execution_count": 57,
      "outputs": []
    },
    {
      "cell_type": "code",
      "source": [
        "# train: collapse column by median\n",
        "train_start = Zip97212.columns.get_loc('1996-01-31')\n",
        "train_stop = Zip97212.columns.get_loc('2021-12-31')\n",
        "test_stop = Zip97212.columns.get_loc('2022-06-30')\n",
        "train_columns = Zip97212.iloc[:, train_start:train_stop].columns.tolist()\n",
        "test_columns = Zip97212.iloc[:, (train_stop + 1):test_stop].columns.tolist()\n"
      ],
      "metadata": {
        "id": "nXgVlHw2OGAw"
      },
      "execution_count": 58,
      "outputs": []
    },
    {
      "cell_type": "code",
      "source": [
        "# remove rows with 0's beginning (1997-01) with trainset\n",
        "#date_columns = Zip97212.iloc[:, train_start:test_stop].columns.tolist()\n",
        "\n",
        "Zip97212[date_columns] = Zip97212[date_columns].replace(0, np.nan)\n",
        "Zip97212[date_columns] = Zip97212[date_columns].dropna()"
      ],
      "metadata": {
        "id": "hMTcz0jdD977"
      },
      "execution_count": 59,
      "outputs": []
    },
    {
      "cell_type": "code",
      "source": [
        "# Creating training and testing datasets\n",
        "df_train = Zip97212[train_columns].median().T\n",
        "df_test = Zip97212[test_columns].median().T"
      ],
      "metadata": {
        "id": "toHzSeHfEcVw"
      },
      "execution_count": 60,
      "outputs": []
    },
    {
      "cell_type": "code",
      "source": [
        "history = [x for x in df_train]\n",
        "predictions = list()\n",
        "iterations = (12-len(df_test)) + 10\n",
        "\n",
        "for t in range(iterations):\n",
        "    model = ARIMA(history, order=(1,2,1))\n",
        "    model_fit = model.fit(disp=0)\n",
        "    output = model_fit.forecast()\n",
        "    yhat = output[0]\n",
        "    predictions.append(yhat)\n",
        "\n",
        "    if t > 12:\n",
        "        year = 2022\n",
        "        month = (t+ 2) % 12\n",
        "        if month == 0:\n",
        "            month = 12\n",
        "    else:\n",
        "        year = 2022\n",
        "        month = t+ 2\n",
        "        if month == 0:\n",
        "            month = 12\n",
        "\n",
        "    print('\\n===============================================')\n",
        "    print('date: {}-{:01d}'.format(year, month))\n",
        "    print('-----------------------------------------------')\n",
        "\n",
        "    #\n",
        "    # observation: if current value doesn't exist from test, append current\n",
        "    #     predition, to ensure successive rolling prediction computed.\n",
        "    #\n",
        "    try:\n",
        "        obs = df_test[t]\n",
        "        print('predicted={:03f}, expected={:03f}'.format(float(yhat), obs))\n",
        "        print('prediction difference: {:03f}'.format(abs(1-float(yhat)/obs)))\n",
        "        print('\\n===============================================')\n",
        "        error = mean_squared_error(df_test, predictions)\n",
        "        print('Test MSE: {:03f}\\n\\n'.format(error))\n",
        "    except:\n",
        "        obs = yhat\n",
        "        print('predicted={:03f}'.format(float(yhat)))\n",
        "\n",
        "    history.append(obs)"
      ],
      "metadata": {
        "colab": {
          "base_uri": "https://localhost:8080/"
        },
        "id": "Q-4er2KpEgCo",
        "outputId": "6a4835b1-e854-4912-8900-f609234e31c5"
      },
      "execution_count": 61,
      "outputs": [
        {
          "output_type": "stream",
          "name": "stdout",
          "text": [
            "\n",
            "===============================================\n",
            "date: 2022-2\n",
            "-----------------------------------------------\n",
            "predicted=831687.825334, expected=843412.000000\n",
            "prediction difference: 0.013901\n",
            "\n",
            "===============================================\n",
            "predicted=831687.825334\n",
            "\n",
            "===============================================\n",
            "date: 2022-3\n",
            "-----------------------------------------------\n",
            "predicted=835386.927419, expected=860029.000000\n",
            "prediction difference: 0.028653\n",
            "\n",
            "===============================================\n",
            "predicted=835386.927419\n"
          ]
        },
        {
          "output_type": "stream",
          "name": "stderr",
          "text": [
            "/usr/local/lib/python3.7/dist-packages/statsmodels/base/data.py:629: VisibleDeprecationWarning: Creating an ndarray from ragged nested sequences (which is a list-or-tuple of lists-or-tuples-or ndarrays with different lengths or shapes) is deprecated. If you meant to do this, you must specify 'dtype=object' when creating the ndarray.\n",
            "  endog = np.asarray(endog)\n",
            "/usr/local/lib/python3.7/dist-packages/statsmodels/tsa/arima_model.py:424: VisibleDeprecationWarning: Creating an ndarray from ragged nested sequences (which is a list-or-tuple of lists-or-tuples-or ndarrays with different lengths or shapes) is deprecated. If you meant to do this, you must specify 'dtype=object' when creating the ndarray.\n",
            "  _endog = endog if hasattr(endog, 'ndim') else np.asarray(endog)\n",
            "/usr/local/lib/python3.7/dist-packages/statsmodels/tsa/tsatools.py:721: VisibleDeprecationWarning: Creating an ndarray from ragged nested sequences (which is a list-or-tuple of lists-or-tuples-or ndarrays with different lengths or shapes) is deprecated. If you meant to do this, you must specify 'dtype=object' when creating the ndarray.\n",
            "  return np.asarray([np.diff(x, d - i)[0] for i in range(d, 0, -1)])\n"
          ]
        },
        {
          "output_type": "stream",
          "name": "stdout",
          "text": [
            "\n",
            "===============================================\n",
            "date: 2022-4\n",
            "-----------------------------------------------\n",
            "predicted=839088.244835, expected=891040.000000\n",
            "prediction difference: 0.058305\n",
            "\n",
            "===============================================\n",
            "predicted=839088.244835\n",
            "\n",
            "===============================================\n",
            "date: 2022-5\n",
            "-----------------------------------------------\n",
            "predicted=842796.669360, expected=913318.000000\n",
            "prediction difference: 0.077214\n",
            "\n",
            "===============================================\n",
            "predicted=842796.669360\n",
            "\n",
            "===============================================\n",
            "date: 2022-6\n",
            "-----------------------------------------------\n",
            "predicted=846511.419092, expected=920066.000000\n",
            "prediction difference: 0.079945\n",
            "\n",
            "===============================================\n",
            "Test MSE: 2765441465.018630\n",
            "\n",
            "\n"
          ]
        },
        {
          "output_type": "stream",
          "name": "stderr",
          "text": [
            "/usr/local/lib/python3.7/dist-packages/statsmodels/base/data.py:629: VisibleDeprecationWarning: Creating an ndarray from ragged nested sequences (which is a list-or-tuple of lists-or-tuples-or ndarrays with different lengths or shapes) is deprecated. If you meant to do this, you must specify 'dtype=object' when creating the ndarray.\n",
            "  endog = np.asarray(endog)\n",
            "/usr/local/lib/python3.7/dist-packages/statsmodels/tsa/arima_model.py:424: VisibleDeprecationWarning: Creating an ndarray from ragged nested sequences (which is a list-or-tuple of lists-or-tuples-or ndarrays with different lengths or shapes) is deprecated. If you meant to do this, you must specify 'dtype=object' when creating the ndarray.\n",
            "  _endog = endog if hasattr(endog, 'ndim') else np.asarray(endog)\n"
          ]
        },
        {
          "output_type": "stream",
          "name": "stdout",
          "text": [
            "\n",
            "===============================================\n",
            "date: 2022-7\n",
            "-----------------------------------------------\n",
            "predicted=936172.958313\n",
            "\n",
            "===============================================\n",
            "date: 2022-8\n",
            "-----------------------------------------------\n",
            "predicted=948806.884313\n"
          ]
        },
        {
          "output_type": "stream",
          "name": "stderr",
          "text": [
            "/usr/local/lib/python3.7/dist-packages/statsmodels/tsa/tsatools.py:721: VisibleDeprecationWarning: Creating an ndarray from ragged nested sequences (which is a list-or-tuple of lists-or-tuples-or ndarrays with different lengths or shapes) is deprecated. If you meant to do this, you must specify 'dtype=object' when creating the ndarray.\n",
            "  return np.asarray([np.diff(x, d - i)[0] for i in range(d, 0, -1)])\n"
          ]
        },
        {
          "output_type": "stream",
          "name": "stdout",
          "text": [
            "\n",
            "===============================================\n",
            "date: 2022-9\n",
            "-----------------------------------------------\n",
            "predicted=961273.123682\n",
            "\n",
            "===============================================\n",
            "date: 2022-10\n",
            "-----------------------------------------------\n",
            "predicted=973761.729056\n",
            "\n",
            "===============================================\n",
            "date: 2022-11\n",
            "-----------------------------------------------\n",
            "predicted=986285.227015\n",
            "\n",
            "===============================================\n",
            "date: 2022-12\n",
            "-----------------------------------------------\n",
            "predicted=998843.243961\n",
            "\n",
            "===============================================\n",
            "date: 2022-13\n",
            "-----------------------------------------------\n",
            "predicted=1011435.354292\n",
            "\n",
            "===============================================\n",
            "date: 2022-14\n",
            "-----------------------------------------------\n",
            "predicted=1024061.665874\n",
            "\n",
            "===============================================\n",
            "date: 2022-3\n",
            "-----------------------------------------------\n",
            "predicted=1036723.650413\n",
            "\n",
            "===============================================\n",
            "date: 2022-4\n",
            "-----------------------------------------------\n",
            "predicted=1049419.929359\n",
            "\n",
            "===============================================\n",
            "date: 2022-5\n",
            "-----------------------------------------------\n",
            "predicted=1062150.702433\n",
            "\n",
            "===============================================\n",
            "date: 2022-6\n",
            "-----------------------------------------------\n",
            "predicted=1074916.368363\n"
          ]
        }
      ]
    },
    {
      "cell_type": "code",
      "source": [
        "# plot rolling prediction\n",
        "def rolling_plot(data, predictions):\n",
        "    plt.plot(predictions, color='red')\n",
        "    plt.plot(df_test)\n",
        "    plt.xticks(rotation=90)\n",
        "    plt.title('Predictions (Red) vs Expected (Blue)')\n",
        "    plt.show()\n",
        "rolling_plot(y, predictions)"
      ],
      "metadata": {
        "colab": {
          "base_uri": "https://localhost:8080/",
          "height": 337
        },
        "id": "qU6bbHOtEgSl",
        "outputId": "1668fee5-0e19-4c0f-ba73-e0edde8c1f23"
      },
      "execution_count": 41,
      "outputs": [
        {
          "output_type": "display_data",
          "data": {
            "text/plain": [
              "<Figure size 432x288 with 1 Axes>"
            ],
            "image/png": "[encoded data removed]"
          },
          "metadata": {
            "needs_background": "light"
          }
        }
      ]
    }
  ]
}
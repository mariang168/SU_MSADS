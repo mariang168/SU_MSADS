{
  "nbformat": 4,
  "nbformat_minor": 0,
  "metadata": {
    "colab": {
      "name": "Zip94804.ipynb",
      "provenance": [],
      "collapsed_sections": [],
      "history_visible": true,
      "machine_shape": "hm",
      "authorship_tag": "ABX9TyPjj8Vm0xK1F6iTNWQvGdYs",
      "include_colab_link": true
    },
    "kernelspec": {
      "name": "python3",
      "display_name": "Python 3"
    },
    "language_info": {
      "name": "python"
    },
    "accelerator": "GPU",
    "gpuClass": "standard"
  },
  "cells": [
    {
      "cell_type": "markdown",
      "metadata": {
        "id": "view-in-github",
        "colab_type": "text"
      },
      "source": [
        "<a href=\"https://colab.research.google.com/github/mariang168/SU_MSADS/blob/main/Zip94804.ipynb\" target=\"_parent\"><img src=\"https://colab.research.google.com/assets/colab-badge.svg\" alt=\"Open In Colab\"/></a>"
      ]
    },
    {
      "cell_type": "code",
      "execution_count": 1,
      "metadata": {
        "id": "AwtTVyPuTmU4",
        "colab": {
          "base_uri": "https://localhost:8080/"
        },
        "outputId": "148e0f20-f116-4322-ca16-3113bff0e481"
      },
      "outputs": [
        {
          "output_type": "stream",
          "name": "stderr",
          "text": [
            "/usr/local/lib/python3.7/dist-packages/statsmodels/tools/_testing.py:19: FutureWarning: pandas.util.testing is deprecated. Use the functions in the public API at pandas.testing instead.\n",
            "  import pandas.util.testing as tm\n"
          ]
        }
      ],
      "source": [
        "## SAMPLE TIME SERIES USING RETAIL DATA\n",
        "## BASED ON MILLER (2015) and BROWNLEE (2016)\n",
        "\n",
        "import pandas as pd\n",
        "import matplotlib.pyplot as plt\n",
        "\n",
        "from statsmodels.tsa.stattools import adfuller\n",
        "from statsmodels.graphics.tsaplots import plot_acf\n",
        "from statsmodels.graphics.tsaplots import plot_pacf\n",
        "from sklearn.metrics import mean_squared_error\n",
        "from statsmodels.tsa.arima_model import ARIMA\n",
        "from statsmodels.tsa.arima_model import ARIMAResults\n",
        "from math import sqrt\n",
        "from pandas import DataFrame\n",
        "from scipy.stats import boxcox\n",
        "import seaborn as sns\n",
        "import numpy as np\n",
        "\n",
        "## Setting Seaborn Styles\n",
        "sns.set(style=\"whitegrid\")\n",
        "sns.set_palette((sns.color_palette('tab10', 8)))\n",
        "dims = (11.7, 8.27)\n",
        "%matplotlib inline\n",
        "\n",
        "## Setting random seed\n",
        "np.random.seed(1000)"
      ]
    },
    {
      "cell_type": "code",
      "source": [
        "#Zip97212 = pd.read_csv(\"Zip97212.csv\").fillna(0)\n",
        "Zip94804 = pd.read_csv(\"https://raw.githubusercontent.com/mariang168/SU_MSADS/main/IST718/Zip94804.csv\").fillna(0)\n",
        "#Zip98340 = pd.read_csv(\"Zip98340.csv\").fillna(0)"
      ],
      "metadata": {
        "id": "qXZWn3M1th_F"
      },
      "execution_count": 2,
      "outputs": []
    },
    {
      "cell_type": "code",
      "source": [
        "#Zip94804\n",
        "C_t = Zip94804.transpose()\n",
        "C_t = pd.DataFrame(C_t)\n",
        "C = C_t.drop(['RegionID', 'SizeRank', 'RegionName', 'RegionType', 'StateName', 'State', 'City', 'Metro', 'CountyName'])\n",
        "#O = O.sort_index()\n",
        "C.index.name = \"Date\"\n",
        "C.index = pd.to_datetime(C.index)\n",
        "C['Price']= C.mean(axis=1)\n",
        "C"
      ],
      "metadata": {
        "colab": {
          "base_uri": "https://localhost:8080/",
          "height": 455
        },
        "id": "JS-lCgunuqRl",
        "outputId": "7bc75404-965d-4b5d-aa1a-efab86f3fe26"
      },
      "execution_count": 3,
      "outputs": [
        {
          "output_type": "execute_result",
          "data": {
            "text/plain": [
              "                      0        Price\n",
              "Date                                \n",
              "1996-01-31  183992.0343  183992.0343\n",
              "1996-02-29  178934.9969  178934.9969\n",
              "1996-03-31   177687.123  177687.1230\n",
              "1996-04-30  175233.9138  175233.9138\n",
              "1996-05-31  176664.9931  176664.9931\n",
              "...                 ...          ...\n",
              "2022-02-28  817895.7591  817895.7591\n",
              "2022-03-31   865358.151  865358.1510\n",
              "2022-04-30   869453.853  869453.8530\n",
              "2022-05-31  851362.3185  851362.3185\n",
              "2022-06-30  815151.4639  815151.4639\n",
              "\n",
              "[318 rows x 2 columns]"
            ],
            "text/html": [
              "\n",
              "  <div id=\"df-14654bdf-cff8-41ff-ae87-7b55d57a4fd6\">\n",
              "    <div class=\"colab-df-container\">\n",
              "      <div>\n",
              "<style scoped>\n",
              "    .dataframe tbody tr th:only-of-type {\n",
              "        vertical-align: middle;\n",
              "    }\n",
              "\n",
              "    .dataframe tbody tr th {\n",
              "        vertical-align: top;\n",
              "    }\n",
              "\n",
              "    .dataframe thead th {\n",
              "        text-align: right;\n",
              "    }\n",
              "</style>\n",
              "<table border=\"1\" class=\"dataframe\">\n",
              "  <thead>\n",
              "    <tr style=\"text-align: right;\">\n",
              "      <th></th>\n",
              "      <th>0</th>\n",
              "      <th>Price</th>\n",
              "    </tr>\n",
              "    <tr>\n",
              "      <th>Date</th>\n",
              "      <th></th>\n",
              "      <th></th>\n",
              "    </tr>\n",
              "  </thead>\n",
              "  <tbody>\n",
              "    <tr>\n",
              "      <th>1996-01-31</th>\n",
              "      <td>183992.0343</td>\n",
              "      <td>183992.0343</td>\n",
              "    </tr>\n",
              "    <tr>\n",
              "      <th>1996-02-29</th>\n",
              "      <td>178934.9969</td>\n",
              "      <td>178934.9969</td>\n",
              "    </tr>\n",
              "    <tr>\n",
              "      <th>1996-03-31</th>\n",
              "      <td>177687.123</td>\n",
              "      <td>177687.1230</td>\n",
              "    </tr>\n",
              "    <tr>\n",
              "      <th>1996-04-30</th>\n",
              "      <td>175233.9138</td>\n",
              "      <td>175233.9138</td>\n",
              "    </tr>\n",
              "    <tr>\n",
              "      <th>1996-05-31</th>\n",
              "      <td>176664.9931</td>\n",
              "      <td>176664.9931</td>\n",
              "    </tr>\n",
              "    <tr>\n",
              "      <th>...</th>\n",
              "      <td>...</td>\n",
              "      <td>...</td>\n",
              "    </tr>\n",
              "    <tr>\n",
              "      <th>2022-02-28</th>\n",
              "      <td>817895.7591</td>\n",
              "      <td>817895.7591</td>\n",
              "    </tr>\n",
              "    <tr>\n",
              "      <th>2022-03-31</th>\n",
              "      <td>865358.151</td>\n",
              "      <td>865358.1510</td>\n",
              "    </tr>\n",
              "    <tr>\n",
              "      <th>2022-04-30</th>\n",
              "      <td>869453.853</td>\n",
              "      <td>869453.8530</td>\n",
              "    </tr>\n",
              "    <tr>\n",
              "      <th>2022-05-31</th>\n",
              "      <td>851362.3185</td>\n",
              "      <td>851362.3185</td>\n",
              "    </tr>\n",
              "    <tr>\n",
              "      <th>2022-06-30</th>\n",
              "      <td>815151.4639</td>\n",
              "      <td>815151.4639</td>\n",
              "    </tr>\n",
              "  </tbody>\n",
              "</table>\n",
              "<p>318 rows × 2 columns</p>\n",
              "</div>\n",
              "      <button class=\"colab-df-convert\" onclick=\"convertToInteractive('df-14654bdf-cff8-41ff-ae87-7b55d57a4fd6')\"\n",
              "              title=\"Convert this dataframe to an interactive table.\"\n",
              "              style=\"display:none;\">\n",
              "        \n",
              "  <svg xmlns=\"http://www.w3.org/2000/svg\" height=\"24px\"viewBox=\"0 0 24 24\"\n",
              "       width=\"24px\">\n",
              "    <path d=\"M0 0h24v24H0V0z\" fill=\"none\"/>\n",
              "    <path d=\"M18.56 5.44l.94 2.06.94-2.06 2.06-.94-2.06-.94-.94-2.06-.94 2.06-2.06.94zm-11 1L8.5 8.5l.94-2.06 2.06-.94-2.06-.94L8.5 2.5l-.94 2.06-2.06.94zm10 10l.94 2.06.94-2.06 2.06-.94-2.06-.94-.94-2.06-.94 2.06-2.06.94z\"/><path d=\"M17.41 7.96l-1.37-1.37c-.4-.4-.92-.59-1.43-.59-.52 0-1.04.2-1.43.59L10.3 9.45l-7.72 7.72c-.78.78-.78 2.05 0 2.83L4 21.41c.39.39.9.59 1.41.59.51 0 1.02-.2 1.41-.59l7.78-7.78 2.81-2.81c.8-.78.8-2.07 0-2.86zM5.41 20L4 18.59l7.72-7.72 1.47 1.35L5.41 20z\"/>\n",
              "  </svg>\n",
              "      </button>\n",
              "      \n",
              "  <style>\n",
              "    .colab-df-container {\n",
              "      display:flex;\n",
              "      flex-wrap:wrap;\n",
              "      gap: 12px;\n",
              "    }\n",
              "\n",
              "    .colab-df-convert {\n",
              "      background-color: #E8F0FE;\n",
              "      border: none;\n",
              "      border-radius: 50%;\n",
              "      cursor: pointer;\n",
              "      display: none;\n",
              "      fill: #1967D2;\n",
              "      height: 32px;\n",
              "      padding: 0 0 0 0;\n",
              "      width: 32px;\n",
              "    }\n",
              "\n",
              "    .colab-df-convert:hover {\n",
              "      background-color: #E2EBFA;\n",
              "      box-shadow: 0px 1px 2px rgba(60, 64, 67, 0.3), 0px 1px 3px 1px rgba(60, 64, 67, 0.15);\n",
              "      fill: #174EA6;\n",
              "    }\n",
              "\n",
              "    [theme=dark] .colab-df-convert {\n",
              "      background-color: #3B4455;\n",
              "      fill: #D2E3FC;\n",
              "    }\n",
              "\n",
              "    [theme=dark] .colab-df-convert:hover {\n",
              "      background-color: #434B5C;\n",
              "      box-shadow: 0px 1px 3px 1px rgba(0, 0, 0, 0.15);\n",
              "      filter: drop-shadow(0px 1px 2px rgba(0, 0, 0, 0.3));\n",
              "      fill: #FFFFFF;\n",
              "    }\n",
              "  </style>\n",
              "\n",
              "      <script>\n",
              "        const buttonEl =\n",
              "          document.querySelector('#df-14654bdf-cff8-41ff-ae87-7b55d57a4fd6 button.colab-df-convert');\n",
              "        buttonEl.style.display =\n",
              "          google.colab.kernel.accessAllowed ? 'block' : 'none';\n",
              "\n",
              "        async function convertToInteractive(key) {\n",
              "          const element = document.querySelector('#df-14654bdf-cff8-41ff-ae87-7b55d57a4fd6');\n",
              "          const dataTable =\n",
              "            await google.colab.kernel.invokeFunction('convertToInteractive',\n",
              "                                                     [key], {});\n",
              "          if (!dataTable) return;\n",
              "\n",
              "          const docLinkHtml = 'Like what you see? Visit the ' +\n",
              "            '<a target=\"_blank\" href=https://colab.research.google.com/notebooks/data_table.ipynb>data table notebook</a>'\n",
              "            + ' to learn more about interactive tables.';\n",
              "          element.innerHTML = '';\n",
              "          dataTable['output_type'] = 'display_data';\n",
              "          await google.colab.output.renderOutput(dataTable, element);\n",
              "          const docLink = document.createElement('div');\n",
              "          docLink.innerHTML = docLinkHtml;\n",
              "          element.appendChild(docLink);\n",
              "        }\n",
              "      </script>\n",
              "    </div>\n",
              "  </div>\n",
              "  "
            ]
          },
          "metadata": {},
          "execution_count": 3
        }
      ]
    },
    {
      "cell_type": "code",
      "source": [
        "# EXPLORE - IS OUR TIME SERIES STATIONARY OR NOT?\n",
        "\n",
        "result = adfuller(C['Price'], autolag='AIC')\n",
        "\n",
        "print('ADF Statistic: %f' % result[0])\n",
        "print('p-value: %f' % result[1])\n",
        "print('Critical Values:')\n",
        "for key, value in result[4].items():\n",
        "\tprint('\\t%s: %.3f' % (key, value))"
      ],
      "metadata": {
        "colab": {
          "base_uri": "https://localhost:8080/"
        },
        "id": "qLQ2O14CYTEO",
        "outputId": "addfdc57-cb36-4fc3-bdbb-712ff59aef26"
      },
      "execution_count": 4,
      "outputs": [
        {
          "output_type": "stream",
          "name": "stdout",
          "text": [
            "ADF Statistic: -0.153974\n",
            "p-value: 0.943790\n",
            "Critical Values:\n",
            "\t1%: -3.452\n",
            "\t5%: -2.871\n",
            "\t10%: -2.572\n"
          ]
        }
      ]
    },
    {
      "cell_type": "code",
      "source": [
        "# SCRUB - OUR TIME SERIES IS NOT STATIONARY - WE NEED TO TAKE THE DIFFERENCE\n",
        " \n",
        "# create a differenced series\n",
        "def difference(dataset, interval=1):\n",
        "\tdiff = list()\n",
        "\tfor i in range(interval, len(dataset)):\n",
        "\t\tvalue = dataset[i] - dataset[i - interval]\n",
        "\t\tdiff.append(value)\n",
        "\treturn pd.Series(diff)\n",
        "\n",
        "#X = O['Price']\n",
        "X = C['Price']\n",
        "X = X.astype('float32')\n",
        "# difference data\n",
        "months_in_year = 12\n",
        "stationary = difference(X, months_in_year)\n",
        "stationary.index = C.index[months_in_year:]\n",
        "# check if stationary\n",
        "result = adfuller(stationary)\n",
        "print('ADF Statistic: %f' % result[0])\n",
        "print('p-value: %f' % result[1])\n",
        "print('Critical Values:')\n",
        "for key, value in result[4].items():\n",
        "\tprint('\\t%s: %.3f' % (key, value))\n",
        "\n",
        "# plot\n",
        "stationary.plot()"
      ],
      "metadata": {
        "colab": {
          "base_uri": "https://localhost:8080/",
          "height": 406
        },
        "id": "f7NsYja4Yb1x",
        "outputId": "a8b14d34-55c3-4c41-b850-51ac92ccfdea"
      },
      "execution_count": 5,
      "outputs": [
        {
          "output_type": "stream",
          "name": "stdout",
          "text": [
            "ADF Statistic: -1.756806\n",
            "p-value: 0.402107\n",
            "Critical Values:\n",
            "\t1%: -3.453\n",
            "\t5%: -2.871\n",
            "\t10%: -2.572\n"
          ]
        },
        {
          "output_type": "execute_result",
          "data": {
            "text/plain": [
              "<matplotlib.axes._subplots.AxesSubplot at 0x7f6efa939d50>"
            ]
          },
          "metadata": {},
          "execution_count": 5
        },
        {
          "output_type": "display_data",
          "data": {
            "text/plain": [
              "<Figure size 432x288 with 1 Axes>"
            ],
            "image/png": "[encoded data removed]"
          },
          "metadata": {
            "needs_background": "light"
          }
        }
      ]
    },
    {
      "cell_type": "code",
      "source": [
        "# SCRUB - SOME CODE TO INVERT DIFFERENCE VALUE\n",
        "\n",
        "def inverse_difference(history, yhat, interval=1):\n",
        "\treturn yhat + history[-interval]"
      ],
      "metadata": {
        "id": "DvEjSDCCYcmJ"
      },
      "execution_count": 6,
      "outputs": []
    },
    {
      "cell_type": "code",
      "source": [
        "# USING STATIONARY TIME SERIES LOOK AT ACF\n",
        "\n",
        "series = stationary\n",
        "\n",
        "plot_acf(series)\n",
        "plot_pacf(series)"
      ],
      "metadata": {
        "colab": {
          "base_uri": "https://localhost:8080/",
          "height": 818
        },
        "id": "duPpKjKzYcrR",
        "outputId": "f74c0735-a11a-4f74-cfbc-ec8ec205ec3e"
      },
      "execution_count": 7,
      "outputs": [
        {
          "output_type": "execute_result",
          "data": {
            "text/plain": [
              "<Figure size 432x288 with 1 Axes>"
            ],
            "image/png": "[encoded data removed]"
          },
          "metadata": {},
          "execution_count": 7
        },
        {
          "output_type": "display_data",
          "data": {
            "text/plain": [
              "<Figure size 432x288 with 1 Axes>"
            ],
            "image/png": "[encoded data removed]"
          },
          "metadata": {
            "needs_background": "light"
          }
        },
        {
          "output_type": "display_data",
          "data": {
            "text/plain": [
              "<Figure size 432x288 with 1 Axes>"
            ],
            "image/png": "[encoded data removed]"
          },
          "metadata": {
            "needs_background": "light"
          }
        }
      ]
    },
    {
      "cell_type": "code",
      "source": [
        "# USING STATIONARY TIME SERIES LOOK FOR PACF\n",
        "\n",
        "plot_pacf(series)"
      ],
      "metadata": {
        "colab": {
          "base_uri": "https://localhost:8080/",
          "height": 551
        },
        "id": "xoCzPjaeYcvn",
        "outputId": "58722c36-73e1-48ae-c447-d6e603e2920e"
      },
      "execution_count": 8,
      "outputs": [
        {
          "output_type": "execute_result",
          "data": {
            "text/plain": [
              "<Figure size 432x288 with 1 Axes>"
            ],
            "image/png": "[encoded data removed]"
          },
          "metadata": {},
          "execution_count": 8
        },
        {
          "output_type": "display_data",
          "data": {
            "text/plain": [
              "<Figure size 432x288 with 1 Axes>"
            ],
            "image/png": "[encoded data removed]"
          },
          "metadata": {
            "needs_background": "light"
          }
        }
      ]
    },
    {
      "cell_type": "code",
      "source": [
        "# BUILD THE MODEL - USING ORIGINAL SERIES1 DATA\n",
        "\n",
        "# prepare data\n",
        "#X = O['Price']\n",
        "X = C['Price']\n",
        "X = X.astype('float32')\n",
        "train_size = int(len(X) * 0.75)\n",
        "train, test = X[0:train_size], X[train_size:]\n",
        "# walk-forward validation\n",
        "history = [x for x in train]\n",
        "predictions = list()\n",
        "for i in range(len(test)):\n",
        "\t# difference data\n",
        "\tmonths_in_year = 12\n",
        "\tdiff = difference(history, months_in_year)\n",
        "\t# predict\n",
        "\tmodel = ARIMA(diff, order=(2,1,0))\n",
        "\tmodel_fit = model.fit(trend='nc', disp=0)\n",
        "\tyhat = model_fit.forecast()[0]\n",
        "\tyhat = inverse_difference(history, yhat, months_in_year)\n",
        "\tpredictions.append(yhat)\n",
        "\t# observation\n",
        "\tobs = test[i]\n",
        "\thistory.append(obs)\n",
        "\tprint('>Predicted=%.3f, Expected=%3.f' % (yhat, obs))\n",
        "# report performance\n",
        "mse = mean_squared_error(test, predictions)\n",
        "rmse = sqrt(mse)\n",
        "print('RMSE: %.3f' % rmse)"
      ],
      "metadata": {
        "colab": {
          "base_uri": "https://localhost:8080/"
        },
        "id": "_b6W35ZfYc3Y",
        "outputId": "e82d2787-2ba0-4d89-b016-6c2fafdd29a4"
      },
      "execution_count": 9,
      "outputs": [
        {
          "output_type": "stream",
          "name": "stdout",
          "text": [
            ">Predicted=411066.479, Expected=418459\n",
            ">Predicted=421772.748, Expected=424800\n",
            ">Predicted=421470.408, Expected=453008\n",
            ">Predicted=462030.225, Expected=446740\n",
            ">Predicted=462818.815, Expected=449656\n",
            ">Predicted=452016.356, Expected=456307\n",
            ">Predicted=461767.484, Expected=457345\n",
            ">Predicted=459011.976, Expected=466495\n",
            ">Predicted=467916.872, Expected=448419\n",
            ">Predicted=456797.495, Expected=456670\n",
            ">Predicted=466222.810, Expected=462503\n",
            ">Predicted=465430.991, Expected=470300\n",
            ">Predicted=478057.829, Expected=474241\n",
            ">Predicted=481764.758, Expected=482065\n",
            ">Predicted=508739.757, Expected=508504\n",
            ">Predicted=502586.043, Expected=515724\n",
            ">Predicted=518427.503, Expected=524699\n",
            ">Predicted=534989.186, Expected=535645\n",
            ">Predicted=538356.042, Expected=545237\n",
            ">Predicted=555714.491, Expected=542186\n",
            ">Predicted=526103.758, Expected=539795\n",
            ">Predicted=544990.474, Expected=532432\n",
            ">Predicted=542482.520, Expected=537468\n",
            ">Predicted=541071.536, Expected=542849\n",
            ">Predicted=546561.582, Expected=541539\n",
            ">Predicted=548683.089, Expected=553599\n",
            ">Predicted=578659.485, Expected=561018\n",
            ">Predicted=569340.874, Expected=584716\n",
            ">Predicted=588328.598, Expected=592596\n",
            ">Predicted=608001.119, Expected=598385\n",
            ">Predicted=607721.549, Expected=599860\n",
            ">Predicted=595485.992, Expected=605935\n",
            ">Predicted=601342.771, Expected=582456\n",
            ">Predicted=577860.140, Expected=602347\n",
            ">Predicted=600578.469, Expected=617423\n",
            ">Predicted=629792.667, Expected=634103\n",
            ">Predicted=635294.315, Expected=622699\n",
            ">Predicted=637952.507, Expected=631473\n",
            ">Predicted=636332.124, Expected=630516\n",
            ">Predicted=653510.412, Expected=632810\n",
            ">Predicted=638733.494, Expected=635986\n",
            ">Predicted=636128.968, Expected=634210\n",
            ">Predicted=634500.726, Expected=637796\n",
            ">Predicted=641828.288, Expected=642810\n",
            ">Predicted=619905.021, Expected=619076\n",
            ">Predicted=638686.891, Expected=612028\n",
            ">Predicted=627313.057, Expected=604004\n",
            ">Predicted=613173.195, Expected=626071\n",
            ">Predicted=608771.569, Expected=622351\n",
            ">Predicted=632477.929, Expected=628379\n",
            ">Predicted=629285.777, Expected=623525\n",
            ">Predicted=625137.536, Expected=632804\n",
            ">Predicted=635059.701, Expected=642858\n",
            ">Predicted=642795.619, Expected=652484\n",
            ">Predicted=657822.858, Expected=638681\n",
            ">Predicted=646415.093, Expected=646325\n",
            ">Predicted=618450.519, Expected=676141\n",
            ">Predicted=669898.605, Expected=703708\n",
            ">Predicted=708856.131, Expected=715445\n",
            ">Predicted=746359.323, Expected=722510\n",
            ">Predicted=721745.389, Expected=713792\n",
            ">Predicted=716708.404, Expected=744469\n",
            ">Predicted=740146.398, Expected=733982\n",
            ">Predicted=747311.704, Expected=770540\n",
            ">Predicted=780802.762, Expected=782158\n",
            ">Predicted=797129.315, Expected=795309\n",
            ">Predicted=781976.997, Expected=797543\n",
            ">Predicted=806669.638, Expected=835856\n",
            ">Predicted=870733.310, Expected=844680\n",
            ">Predicted=877014.993, Expected=818241\n",
            ">Predicted=822955.029, Expected=778620\n",
            ">Predicted=770386.507, Expected=781254\n",
            ">Predicted=764829.407, Expected=787726\n",
            ">Predicted=819855.785, Expected=786996\n",
            ">Predicted=774646.190, Expected=812339\n",
            ">Predicted=847775.736, Expected=817896\n",
            ">Predicted=833335.880, Expected=865358\n",
            ">Predicted=874031.725, Expected=869454\n",
            ">Predicted=878167.989, Expected=851362\n",
            ">Predicted=887381.821, Expected=815151\n",
            "RMSE: 20179.688\n"
          ]
        }
      ]
    },
    {
      "cell_type": "code",
      "source": [
        "# CODE RUNS LONG FOR EVALUATION - approximately 34 mins on COLAB\n",
        "import warnings\n",
        "import numpy\n",
        "  \n",
        " \n",
        "# evaluate an ARIMA model for a given order (p,d,q) and return RMSE\n",
        "def evaluate_arima_model(X, arima_order):\n",
        "\t# prepare training dataset\n",
        "\tX = X.astype('float32')\n",
        "\ttrain_size = int(len(X) * 0.50)\n",
        "\ttrain, test = X[0:train_size], X[train_size:]\n",
        "\thistory = [x for x in train]\n",
        "\t# make predictions\n",
        "\tpredictions = list()\n",
        "\tfor t in range(len(test)):\n",
        "\t\t# difference data\n",
        "\t\tmonths_in_year = 12\n",
        "\t\tdiff = difference(history, months_in_year)\n",
        "\t\tmodel = ARIMA(diff, order=arima_order)\n",
        "\t\tmodel_fit = model.fit(trend='nc', disp=0)\n",
        "\t\tyhat = model_fit.forecast()[0]\n",
        "\t\tyhat = inverse_difference(history, yhat, months_in_year)\n",
        "\t\tpredictions.append(yhat)\n",
        "\t\thistory.append(test[t])\n",
        "\t# calculate out of sample error\n",
        "\tmse = mean_squared_error(test, predictions)\n",
        "\trmse = sqrt(mse)\n",
        "\treturn rmse\n",
        " \n",
        "# evaluate combinations of p, d and q values for an ARIMA model\n",
        "def evaluate_models(dataset, p_values, d_values, q_values):\n",
        "\tdataset = dataset.astype('float32')\n",
        "\tbest_score, best_cfg = float(\"inf\"), None\n",
        "\tfor p in p_values:\n",
        "\t\tfor d in d_values:\n",
        "\t\t\tfor q in q_values:\n",
        "\t\t\t\torder = (p,d,q)\n",
        "\t\t\t\ttry:\n",
        "\t\t\t\t\tmse = evaluate_arima_model(dataset, order)\n",
        "\t\t\t\t\tif mse < best_score:\n",
        "\t\t\t\t\t\tbest_score, best_cfg = mse, order\n",
        "\t\t\t\t\tprint('ARIMA%s RMSE=%.3f' % (order,mse))\n",
        "\t\t\t\texcept:\n",
        "\t\t\t\t\tcontinue\n",
        "\tprint('Best ARIMA%s RMSE=%.3f' % (best_cfg, best_score))\n",
        " \n",
        "# LOAD DATA\n",
        "\n",
        "series = C['Price']\n",
        "# evaluate parameters\n",
        "p_values = range(0, 4)\n",
        "d_values = range(0, 3)\n",
        "q_values = range(0, 4)\n",
        "warnings.filterwarnings(\"ignore\")\n",
        "evaluate_models(series.values, p_values, d_values, q_values)"
      ],
      "metadata": {
        "colab": {
          "base_uri": "https://localhost:8080/"
        },
        "id": "ge6oxnvlY7Tl",
        "outputId": "5adb2f92-f846-4619-a1c7-e7142e8e9952"
      },
      "execution_count": 10,
      "outputs": [
        {
          "output_type": "stream",
          "name": "stdout",
          "text": [
            "ARIMA(0, 0, 1) RMSE=38874.611\n",
            "ARIMA(0, 1, 1) RMSE=16415.879\n",
            "ARIMA(0, 1, 2) RMSE=16336.212\n",
            "ARIMA(0, 1, 3) RMSE=16470.896\n",
            "ARIMA(0, 2, 1) RMSE=17132.876\n",
            "ARIMA(1, 0, 0) RMSE=16228.930\n",
            "ARIMA(1, 1, 0) RMSE=16438.558\n",
            "ARIMA(1, 1, 1) RMSE=16441.989\n",
            "ARIMA(1, 1, 2) RMSE=16554.727\n",
            "ARIMA(1, 1, 3) RMSE=16594.897\n",
            "ARIMA(1, 2, 0) RMSE=17997.628\n",
            "ARIMA(1, 2, 1) RMSE=16978.630\n",
            "ARIMA(1, 2, 2) RMSE=17187.336\n",
            "ARIMA(1, 2, 3) RMSE=16857.719\n",
            "ARIMA(2, 0, 0) RMSE=16305.916\n",
            "ARIMA(2, 1, 0) RMSE=16273.618\n",
            "ARIMA(2, 1, 1) RMSE=16488.168\n",
            "ARIMA(2, 1, 2) RMSE=16608.922\n",
            "ARIMA(2, 1, 3) RMSE=16831.073\n",
            "ARIMA(2, 2, 0) RMSE=18069.404\n",
            "ARIMA(2, 2, 1) RMSE=16740.556\n",
            "ARIMA(2, 2, 2) RMSE=17075.153\n",
            "ARIMA(2, 2, 3) RMSE=16763.315\n",
            "ARIMA(3, 0, 0) RMSE=16084.358\n",
            "ARIMA(3, 1, 0) RMSE=16469.177\n",
            "ARIMA(3, 1, 1) RMSE=16545.965\n",
            "ARIMA(3, 1, 2) RMSE=16942.081\n",
            "ARIMA(3, 2, 0) RMSE=17743.005\n",
            "ARIMA(3, 2, 1) RMSE=16983.576\n",
            "Best ARIMA(3, 0, 0) RMSE=16084.358\n"
          ]
        }
      ]
    },
    {
      "cell_type": "code",
      "source": [
        "#Zip97212 ARIMA()\n",
        "#@title\n",
        "# SIMILAR BLOCK OF CODE - THIS ONE SAVES RESIDUALS FOR PLOTTING\n",
        "\n",
        "# create a differenced series\n",
        "def difference(dataset, interval=1):\n",
        "\tdiff = list()\n",
        "\tfor i in range(interval, len(dataset)):\n",
        "\t\tvalue = dataset[i] - dataset[i - interval]\n",
        "\t\tdiff.append(value)\n",
        "\treturn diff\n",
        " \n",
        "# invert differenced value\n",
        "def inverse_difference(history, yhat, interval=1):\n",
        "\treturn yhat + history[-interval]\n",
        " \n",
        "# load data\n",
        "series = C['Price']\n",
        "# prepare data\n",
        "X = series.values\n",
        "X = X.astype('float32')\n",
        "train_size = int(len(X) * 0.50)\n",
        "train, test = X[0:train_size], X[train_size:]\n",
        "# walk-forward validation\n",
        "history = [x for x in train]\n",
        "predictions = list()\n",
        "for i in range(len(test)):\n",
        "\t# difference data\n",
        "\tweeks_in_year = 52\n",
        "\tdiff = difference(history, weeks_in_year)\n",
        "\t# predict\n",
        "\tmodel = ARIMA(diff, order=(0,2,1))\n",
        "\tmodel_fit = model.fit(trend='nc', disp=0)\n",
        "\tyhat = model_fit.forecast()[0]\n",
        "\tyhat = inverse_difference(history, yhat, weeks_in_year)\n",
        "\tpredictions.append(yhat)\n",
        "\t# observation\n",
        "\tobs = test[i]\n",
        "\thistory.append(obs)\n",
        "# errors\n",
        "residuals = [test[i]-predictions[i] for i in range(len(test))]\n",
        "residuals = DataFrame(residuals)\n",
        "print(residuals.describe())\n",
        "# report performance\n",
        "mse = mean_squared_error(test, predictions)\n",
        "rmse = sqrt(mse)\n",
        "print('RMSE: %.3f' % rmse)\n",
        "# plot\n",
        "residuals.hist(ax=plt.gca())\n",
        "plt.show()\n",
        "\n",
        "residuals.plot(kind='kde', ax=plt.gca())\n",
        "plt.show()"
      ],
      "metadata": {
        "colab": {
          "base_uri": "https://localhost:8080/",
          "height": 720
        },
        "id": "w7kg8thpY7YF",
        "outputId": "a261f12a-18f4-4d8e-8398-cc398d0c384f"
      },
      "execution_count": 130,
      "outputs": [
        {
          "output_type": "stream",
          "name": "stdout",
          "text": [
            "                  0\n",
            "count    159.000000\n",
            "mean     305.778463\n",
            "std    15648.425947\n",
            "min   -61124.741347\n",
            "25%    -7184.721092\n",
            "50%     1566.770576\n",
            "75%     9928.674609\n",
            "max    47915.505136\n",
            "RMSE: 15602.136\n"
          ]
        },
        {
          "output_type": "display_data",
          "data": {
            "text/plain": [
              "<Figure size 432x288 with 1 Axes>"
            ],
            "image/png": "[encoded data removed]"
          },
          "metadata": {
            "needs_background": "light"
          }
        },
        {
          "output_type": "display_data",
          "data": {
            "text/plain": [
              "<Figure size 432x288 with 1 Axes>"
            ],
            "image/png": "[encoded data removed]"
          },
          "metadata": {
            "needs_background": "light"
          }
        }
      ]
    },
    {
      "cell_type": "code",
      "source": [
        "# MODEL - INTERPRET \n",
        "# RECREATE ANALYSIS WITH MEAN RESIDUAL ADDED TO EACH PREDICTION\n",
        "# create a differenced series\n",
        "def difference(dataset, interval=1):\n",
        "\tdiff = list()\n",
        "\tfor i in range(interval, len(dataset)):\n",
        "\t\tvalue = dataset[i] - dataset[i - interval]\n",
        "\t\tdiff.append(value)\n",
        "\treturn diff\n",
        " \n",
        "# invert differenced value\n",
        "def inverse_difference(history, yhat, interval=1):\n",
        "\treturn yhat + history[-interval]\n",
        " \n",
        "# load data\n",
        "series = C['Price']\n",
        "# prepare data\n",
        "X = series.values\n",
        "X = X.astype('float32')\n",
        "train_size = int(len(X) * 0.50)\n",
        "train, test = X[0:train_size], X[train_size:]\n",
        "# walk-forward validation\n",
        "history = [x for x in train]\n",
        "predictions = list()\n",
        "bias = -120.713087\n",
        "for i in range(len(test)):\n",
        "\t# difference data\n",
        "\tweeks_in_year = 52\n",
        "\tdiff = difference(history, weeks_in_year)\n",
        "\t# predict\n",
        "\tmodel = ARIMA(diff, order=(0,2,1))\n",
        "\tmodel_fit = model.fit(trend='nc', disp=0)\n",
        "\tyhat = model_fit.forecast()[0]\n",
        "\tyhat = bias + inverse_difference(history, yhat, weeks_in_year)\n",
        "\tpredictions.append(yhat)\n",
        "\t# observation\n",
        "\tobs = test[i]\n",
        "\thistory.append(obs)\n",
        "# errors\n",
        "residuals = [test[i]-predictions[i] for i in range(len(test))]\n",
        "residuals = DataFrame(residuals)\n",
        "print(residuals.describe())\n",
        "# report performance\n",
        "mse = mean_squared_error(test, predictions)\n",
        "rmse = sqrt(mse)\n",
        "print('RMSE: %.3f' % rmse)\n",
        "# plot\n",
        "residuals.hist(ax=plt.gca())\n",
        "plt.show()\n",
        "\n",
        "residuals.plot(kind='kde', ax=plt.gca())\n",
        "plt.show()"
      ],
      "metadata": {
        "colab": {
          "base_uri": "https://localhost:8080/",
          "height": 720
        },
        "id": "sSzbSg5KY7b8",
        "outputId": "13bded9b-43cb-4782-fe78-2ee19a7e6161"
      },
      "execution_count": 131,
      "outputs": [
        {
          "output_type": "stream",
          "name": "stdout",
          "text": [
            "                  0\n",
            "count    159.000000\n",
            "mean     426.491550\n",
            "std    15648.425947\n",
            "min   -61004.028260\n",
            "25%    -7064.008005\n",
            "50%     1687.483663\n",
            "75%    10049.387696\n",
            "max    48036.218223\n",
            "RMSE: 15604.969\n"
          ]
        },
        {
          "output_type": "display_data",
          "data": {
            "text/plain": [
              "<Figure size 432x288 with 1 Axes>"
            ],
            "image/png": "[encoded data removed]"
          },
          "metadata": {
            "needs_background": "light"
          }
        },
        {
          "output_type": "display_data",
          "data": {
            "text/plain": [
              "<Figure size 432x288 with 1 Axes>"
            ],
            "image/png": "[encoded data removed]"
          },
          "metadata": {
            "needs_background": "light"
          }
        }
      ]
    },
    {
      "cell_type": "code",
      "source": [
        "# INTERPRET -LOOK AT ACF AND PACF FOR RESIDUALS\n",
        "# Ideally all residuals are not significant and mean==0\n",
        "plot_acf(residuals, ax=plt.gca())\n",
        "plt.show()\n",
        "\n",
        "plot_pacf(residuals, ax=plt.gca())\n",
        "plt.show()"
      ],
      "metadata": {
        "colab": {
          "base_uri": "https://localhost:8080/",
          "height": 551
        },
        "id": "6I1dt_enY7fi",
        "outputId": "f0274373-0582-48f4-9013-d4b9050078a3"
      },
      "execution_count": 65,
      "outputs": [
        {
          "output_type": "display_data",
          "data": {
            "text/plain": [
              "<Figure size 432x288 with 1 Axes>"
            ],
            "image/png": "[encoded data removed]"
          },
          "metadata": {
            "needs_background": "light"
          }
        },
        {
          "output_type": "display_data",
          "data": {
            "text/plain": [
              "<Figure size 432x288 with 1 Axes>"
            ],
            "image/png": "[encoded data removed]"
          },
          "metadata": {
            "needs_background": "light"
          }
        }
      ]
    },
    {
      "cell_type": "code",
      "source": [
        "# MODEL - CODE FROM BROWNLEE FOR SAVING MODEL\n",
        "# NOTE:  This will save in your google drive UNLESS you specified a particular\n",
        "# working directory\n",
        "\n",
        "# monkey patch around bug in ARIMA class\n",
        "def __getnewargs__(self):\n",
        "\treturn ((self.endog),(self.k_lags, self.k_diff, self.k_ma))\n",
        "\n",
        "ARIMA.__getnewargs__ = __getnewargs__\n",
        "\n",
        "# create a differenced series\n",
        "def difference(dataset, interval=1):\n",
        "\tdiff = list()\n",
        "\tfor i in range(interval, len(dataset)):\n",
        "\t\tvalue = dataset[i] - dataset[i - interval]\n",
        "\t\tdiff.append(value)\n",
        "\treturn diff\n",
        "\n",
        "# prepare data\n",
        "X = C['Price']\n",
        "X = X.astype('float32')\n",
        "# difference data\n",
        "months_in_year = 12\n",
        "diff = difference(X, weeks_in_year)\n",
        "# fit model\n",
        "model = ARIMA(diff, order=(0,2,1))\n",
        "model_fit = model.fit(trend='nc', disp=0)\n",
        "# bias constant, could be calculated from in-sample mean residual - CHANGED TO ZERO\n",
        "bias = 0\n",
        "# save model\n",
        "model_fit.save('model.pkl')\n",
        "numpy.save('model_bias.npy', [bias])"
      ],
      "metadata": {
        "id": "yKVyQNXBY7iu"
      },
      "execution_count": 132,
      "outputs": []
    },
    {
      "cell_type": "code",
      "source": [
        "# MODEL\n",
        "# CODE FOR MAKING PREDICTION USING SAVED MODEL - LOOKING ONE STEP AHEAD\n",
        "\n",
        "def inverse_difference(history, yhat, interval=1):\n",
        "\treturn yhat + history[-interval]\n",
        "\n",
        "series = C['Price']\n",
        "months_in_year = 12\n",
        "model_fit = ARIMAResults.load('model.pkl')\n",
        "bias = numpy.load('model_bias.npy')\n",
        "yhat = float(model_fit.forecast()[0])\n",
        "yhat = bias + inverse_difference(series.values, yhat, weeks_in_year)\n",
        "print('Predicted: %.3f' % yhat)"
      ],
      "metadata": {
        "colab": {
          "base_uri": "https://localhost:8080/"
        },
        "id": "gaZ_CUykY7mR",
        "outputId": "7e2b0c9a-4104-4a39-a3ad-cac07915b31b"
      },
      "execution_count": 84,
      "outputs": [
        {
          "output_type": "stream",
          "name": "stdout",
          "text": [
            "Predicted: 817179.381\n"
          ]
        }
      ]
    },
    {
      "cell_type": "code",
      "source": [
        "#Pull Zip97212, Zip94804, Zip98340 file\n",
        "from google.colab import files\n",
        "uploaded = files.upload()"
      ],
      "metadata": {
        "colab": {
          "resources": {
            "http://localhost:8080/nbextensions/google.colab/files.js": {
              "data": "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",
              "ok": true,
              "headers": [
                [
                  "content-type",
                  "application/javascript"
                ]
              ],
              "status": 200,
              "status_text": ""
            }
          },
          "base_uri": "https://localhost:8080/",
          "height": 72
        },
        "id": "RgbbPl-S9T68",
        "outputId": "4e112052-5169-40e9-a33f-a0d443a87676"
      },
      "execution_count": 33,
      "outputs": [
        {
          "output_type": "display_data",
          "data": {
            "text/plain": [
              "<IPython.core.display.HTML object>"
            ],
            "text/html": [
              "\n",
              "     <input type=\"file\" id=\"files-9061fe32-8276-421b-880d-6977ae10e4d6\" name=\"files[]\" multiple disabled\n",
              "        style=\"border:none\" />\n",
              "     <output id=\"result-9061fe32-8276-421b-880d-6977ae10e4d6\">\n",
              "      Upload widget is only available when the cell has been executed in the\n",
              "      current browser session. Please rerun this cell to enable.\n",
              "      </output>\n",
              "      <script src=\"/nbextensions/google.colab/files.js\"></script> "
            ]
          },
          "metadata": {}
        },
        {
          "output_type": "stream",
          "name": "stdout",
          "text": [
            "Saving C.csv to C.csv\n"
          ]
        }
      ]
    },
    {
      "cell_type": "code",
      "source": [
        "# INTERPRET - CREATE TRAIN-TEST DATA\n",
        "# DATA IS WEEKLY FOR 2+ years\n",
        "# KEEP ONE QUARTER - 13 weeks - AS THE TEST DATA\n",
        "#series1 = pd.read_csv('C.csv', header=0,\n",
        "#                     index_col=\"Date\", parse_dates=[\"Date\"])\n",
        "series1 = C\n",
        "split_point = len(series) - 6\n",
        "dataset, validation = series[0:split_point], series[split_point:]\n",
        "print('Dataset %d, Validation %d' % (len(dataset), len(validation)))\n",
        "\n",
        "# STORES TO LOCAL DRIVE\n",
        "dataset.to_csv('dataset.csv')\n",
        "validation.to_csv('validation.csv')"
      ],
      "metadata": {
        "colab": {
          "base_uri": "https://localhost:8080/"
        },
        "id": "6AG4I8L5Y7qf",
        "outputId": "582738b7-bbda-41d8-9edb-1908f662d5a3"
      },
      "execution_count": 133,
      "outputs": [
        {
          "output_type": "stream",
          "name": "stdout",
          "text": [
            "Dataset 312, Validation 6\n"
          ]
        }
      ]
    },
    {
      "cell_type": "code",
      "source": [
        "# MODEL & INTERPRET - \n",
        "# CODE FOR MAKING PREDICTION USING SAVED MODEL - LOOKING MANY STEPS AHEAD\n",
        "# NEED VALIDATION FILE FROM ABOVE\n",
        "\n",
        "\n",
        "def difference(dataset, interval=1):\n",
        "\tdiff = list()\n",
        "\tfor i in range(interval, len(dataset)):\n",
        "\t\tvalue = dataset[i] - dataset[i - interval]\n",
        "\t\tdiff.append(value)\n",
        "\treturn diff\n",
        " \n",
        "# invert differenced value\n",
        "def inverse_difference(history, yhat, interval=1):\n",
        "\treturn yhat + history[-interval]\n",
        " \n",
        "# load and prepare datasets\n",
        "dataset = C['Price']\n",
        "X = dataset.values.astype('float32')\n",
        "history = [x for x in X]\n",
        "months_in_year = 12\n",
        "\n",
        "#validation = Series.from_csv('validation.csv', header=0)\n",
        "y = validation.values.astype('float32')\n",
        "\n",
        "# load model\n",
        "model_fit = ARIMAResults.load('model.pkl')\n",
        "bias = numpy.load('model_bias.npy')\n",
        "\n",
        "# make first prediction\n",
        "predictions = list()\n",
        "yhat = float(model_fit.forecast()[0])\n",
        "yhat = bias + inverse_difference(history, yhat, months_in_year)\n",
        "predictions.append(yhat)\n",
        "history.append(y[0])\n",
        "print('>Predicted=%.3f, Expected=%3.f' % (yhat, y[0]))\n",
        "\n",
        "# rolling forecasts\n",
        "for i in range(1, len(y)):\n",
        "\t# difference data\n",
        "\tmonths_in_year = 12\n",
        "\tdiff = difference(history, months_in_year)\n",
        "\n",
        "\t# predict\n",
        "\tmodel = ARIMA(diff, order=(0,2,1))\n",
        "\tmodel_fit = model.fit(trend='nc', disp=0)\n",
        "\tyhat = model_fit.forecast()[0]\n",
        "\tyhat = bias + inverse_difference(history, yhat, months_in_year)\n",
        "\tpredictions.append(yhat)\n",
        "\n",
        "# observation\n",
        "\tobs = y[i]\n",
        "\thistory.append(obs)\n",
        "\tprint('>Predicted=%.3f, Expected=%3.f' % (yhat, obs))\n",
        " \n",
        "# report performance\n",
        "mse = mean_squared_error(y, predictions)\n",
        "rmse = sqrt(mse)\n",
        "print('RMSE: %.3f' % rmse)\n",
        "\n",
        "fig, ax = plt.subplots(figsize = dims)\n",
        "plt.plot(y)\n",
        "plt.plot(predictions, color='red')\n",
        "plt.xlabel(\"Month\")\n",
        "plt.ylabel(\"Zip Code 97212 Predicted Home Price\")\n",
        "plt.title(\"2022 Projected Median Home Price 94804\")\n",
        "plt.show()"
      ],
      "metadata": {
        "colab": {
          "base_uri": "https://localhost:8080/",
          "height": 654
        },
        "id": "tF0VtOjzY7u6",
        "outputId": "fc856eaa-4547-4359-ef1d-6d28fe886075"
      },
      "execution_count": 134,
      "outputs": [
        {
          "output_type": "stream",
          "name": "stdout",
          "text": [
            ">Predicted=1069264.117, Expected=812339\n",
            ">Predicted=785863.385, Expected=817896\n",
            ">Predicted=778202.026, Expected=865358\n",
            ">Predicted=868024.275, Expected=869454\n",
            ">Predicted=876238.971, Expected=851362\n",
            ">Predicted=850949.175, Expected=815151\n",
            "RMSE: 112941.831\n"
          ]
        },
        {
          "output_type": "display_data",
          "data": {
            "text/plain": [
              "<Figure size 842.4x595.44 with 1 Axes>"
            ],
            "image/png": "[encoded data removed]"
          },
          "metadata": {
            "needs_background": "light"
          }
        }
      ]
    },
    {
      "cell_type": "code",
      "source": [
        "model_fit = model.fit()\n",
        "print(model_fit.summary())"
      ],
      "metadata": {
        "id": "kuGdtHhnCkpw",
        "outputId": "a25f0ee7-6867-47d2-ff2d-448fafd1bc42",
        "colab": {
          "base_uri": "https://localhost:8080/"
        }
      },
      "execution_count": 87,
      "outputs": [
        {
          "output_type": "stream",
          "name": "stdout",
          "text": [
            "                             ARIMA Model Results                              \n",
            "==============================================================================\n",
            "Dep. Variable:                   D2.y   No. Observations:                  309\n",
            "Model:                 ARIMA(0, 2, 1)   Log Likelihood               -3395.099\n",
            "Method:                       css-mle   S.D. of innovations          14173.916\n",
            "Date:                Mon, 15 Aug 2022   AIC                           6796.198\n",
            "Time:                        01:08:06   BIC                           6807.398\n",
            "Sample:                             2   HQIC                          6800.676\n",
            "                                                                              \n",
            "==============================================================================\n",
            "                 coef    std err          z      P>|z|      [0.025      0.975]\n",
            "------------------------------------------------------------------------------\n",
            "const          0.2050      8.996      0.023      0.982     -17.426      17.836\n",
            "ma.L1.D2.y    -1.0000      0.009   -110.709      0.000      -1.018      -0.982\n",
            "                                    Roots                                    \n",
            "=============================================================================\n",
            "                  Real          Imaginary           Modulus         Frequency\n",
            "-----------------------------------------------------------------------------\n",
            "MA.1            1.0000           +0.0000j            1.0000            0.0000\n",
            "-----------------------------------------------------------------------------\n"
          ]
        }
      ]
    }
  ]
}